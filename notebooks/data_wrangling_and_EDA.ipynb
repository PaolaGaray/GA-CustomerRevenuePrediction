{
 "cells": [
  {
   "cell_type": "code",
   "execution_count": 126,
   "metadata": {},
   "outputs": [],
   "source": [
    "import json\n",
    "import pandas as pd"
   ]
  },
  {
   "cell_type": "markdown",
   "metadata": {},
   "source": [
    "# Data Wrangling\n",
    "## Loading and processing the dataset"
   ]
  },
  {
   "cell_type": "code",
   "execution_count": 128,
   "metadata": {},
   "outputs": [],
   "source": [
    "def load_data(csv_path, nrows=None):\n",
    "    \"\"\"\n",
    "    Load and preprocess the Google Analytics customer revenue dataset.\n",
    "    \n",
    "    Parameters:\n",
    "        csv_path (str): Path to the CSV file.\n",
    "        nrows (int, optional): Number of rows to load for testing purposes. Loads all rows if None.\n",
    "        \n",
    "    Returns:\n",
    "        pd.DataFrame: Processed DataFrame with flattened JSON columns and formatted data.\n",
    "    \"\"\"\n",
    "    \n",
    "    # Define columns that contain JSON data\n",
    "    JSON_COLUMNS = ['device', 'geoNetwork', 'totals', 'trafficSource']\n",
    "    \n",
    "    # Load the CSV file with JSON columns parsed and fullVisitorId as a string\n",
    "    df = pd.read_csv(\n",
    "        csv_path,\n",
    "        converters={column: json.loads for column in JSON_COLUMNS},  # Convert JSON columns to dictionaries\n",
    "        dtype={'fullVisitorId': 'str'},  # Ensure fullVisitorId is loaded as a string for uniqueness\n",
    "        nrows=nrows  # Load specified number of rows if provided\n",
    "    )\n",
    "    \n",
    "    # Flatten each JSON column and merge back into the main DataFrame\n",
    "    for column in JSON_COLUMNS:\n",
    "        # Convert JSON data in the column to a DataFrame\n",
    "        column_as_df = pd.json_normalize(df[column])\n",
    "        \n",
    "        # Rename the columns to indicate their source (e.g., device_isMobile)\n",
    "        column_as_df.columns = [f\"{column}_{subcolumn}\" for subcolumn in column_as_df.columns]\n",
    "        \n",
    "        # Drop the original JSON column and merge the new flattened columns\n",
    "        df = df.drop(column, axis=1).join(column_as_df)\n",
    "    \n",
    "    # Drop columns that are either not useful or too complex for initial analysis\n",
    "    df.drop(columns=['customDimensions', 'hits'], inplace=True)\n",
    "    \n",
    "    # Fill missing values for key numerical columns with 0\n",
    "    # - totals_pageviews: Number of pages viewed in a session, can be 0 if no pages were viewed\n",
    "    # - totals_transactionRevenue: Revenue generated, fill missing with 0 as no revenue\n",
    "    df.fillna({\n",
    "        'totals_pageviews': 0,\n",
    "        'totals_transactionRevenue': 0\n",
    "    }, inplace=True)\n",
    "    \n",
    "    # Convert specific columns to integers for consistency\n",
    "    df['device_isMobile'] = df['device_isMobile'].astype(int)  # Convert isMobile to 1 or 0\n",
    "    df['totals_transactionRevenue'] = df['totals_transactionRevenue'].astype(int)  # Revenue as integer\n",
    "    \n",
    "    # Ensure all object (string) columns are consistently treated as strings\n",
    "    cat_cols = df.select_dtypes(include='object').columns\n",
    "    df[cat_cols] = df[cat_cols].astype(str)\n",
    "    \n",
    "    return df\n"
   ]
  },
  {
   "cell_type": "code",
   "execution_count": 130,
   "metadata": {},
   "outputs": [
    {
     "data": {
      "text/html": [
       "<div>\n",
       "<style scoped>\n",
       "    .dataframe tbody tr th:only-of-type {\n",
       "        vertical-align: middle;\n",
       "    }\n",
       "\n",
       "    .dataframe tbody tr th {\n",
       "        vertical-align: top;\n",
       "    }\n",
       "\n",
       "    .dataframe thead th {\n",
       "        text-align: right;\n",
       "    }\n",
       "</style>\n",
       "<table border=\"1\" class=\"dataframe\">\n",
       "  <thead>\n",
       "    <tr style=\"text-align: right;\">\n",
       "      <th></th>\n",
       "      <th>channelGrouping</th>\n",
       "      <th>date</th>\n",
       "      <th>fullVisitorId</th>\n",
       "      <th>socialEngagementType</th>\n",
       "      <th>visitId</th>\n",
       "      <th>visitNumber</th>\n",
       "      <th>visitStartTime</th>\n",
       "      <th>device_browser</th>\n",
       "      <th>device_browserVersion</th>\n",
       "      <th>device_browserSize</th>\n",
       "      <th>...</th>\n",
       "      <th>trafficSource_adwordsClickInfo.criteriaParameters</th>\n",
       "      <th>trafficSource_referralPath</th>\n",
       "      <th>trafficSource_isTrueDirect</th>\n",
       "      <th>trafficSource_adContent</th>\n",
       "      <th>trafficSource_adwordsClickInfo.page</th>\n",
       "      <th>trafficSource_adwordsClickInfo.slot</th>\n",
       "      <th>trafficSource_adwordsClickInfo.gclId</th>\n",
       "      <th>trafficSource_adwordsClickInfo.adNetworkType</th>\n",
       "      <th>trafficSource_adwordsClickInfo.isVideoAd</th>\n",
       "      <th>trafficSource_campaignCode</th>\n",
       "    </tr>\n",
       "  </thead>\n",
       "  <tbody>\n",
       "    <tr>\n",
       "      <th>0</th>\n",
       "      <td>Organic Search</td>\n",
       "      <td>20171016</td>\n",
       "      <td>3162355547410993243</td>\n",
       "      <td>Not Socially Engaged</td>\n",
       "      <td>1508198450</td>\n",
       "      <td>1</td>\n",
       "      <td>1508198450</td>\n",
       "      <td>Firefox</td>\n",
       "      <td>not available in demo dataset</td>\n",
       "      <td>not available in demo dataset</td>\n",
       "      <td>...</td>\n",
       "      <td>not available in demo dataset</td>\n",
       "      <td>nan</td>\n",
       "      <td>nan</td>\n",
       "      <td>nan</td>\n",
       "      <td>nan</td>\n",
       "      <td>nan</td>\n",
       "      <td>nan</td>\n",
       "      <td>nan</td>\n",
       "      <td>nan</td>\n",
       "      <td>nan</td>\n",
       "    </tr>\n",
       "    <tr>\n",
       "      <th>1</th>\n",
       "      <td>Referral</td>\n",
       "      <td>20171016</td>\n",
       "      <td>8934116514970143966</td>\n",
       "      <td>Not Socially Engaged</td>\n",
       "      <td>1508176307</td>\n",
       "      <td>6</td>\n",
       "      <td>1508176307</td>\n",
       "      <td>Chrome</td>\n",
       "      <td>not available in demo dataset</td>\n",
       "      <td>not available in demo dataset</td>\n",
       "      <td>...</td>\n",
       "      <td>not available in demo dataset</td>\n",
       "      <td>/a/google.com/transportation/mtv-services/bike...</td>\n",
       "      <td>nan</td>\n",
       "      <td>nan</td>\n",
       "      <td>nan</td>\n",
       "      <td>nan</td>\n",
       "      <td>nan</td>\n",
       "      <td>nan</td>\n",
       "      <td>nan</td>\n",
       "      <td>nan</td>\n",
       "    </tr>\n",
       "    <tr>\n",
       "      <th>2</th>\n",
       "      <td>Direct</td>\n",
       "      <td>20171016</td>\n",
       "      <td>7992466427990357681</td>\n",
       "      <td>Not Socially Engaged</td>\n",
       "      <td>1508201613</td>\n",
       "      <td>1</td>\n",
       "      <td>1508201613</td>\n",
       "      <td>Chrome</td>\n",
       "      <td>not available in demo dataset</td>\n",
       "      <td>not available in demo dataset</td>\n",
       "      <td>...</td>\n",
       "      <td>not available in demo dataset</td>\n",
       "      <td>nan</td>\n",
       "      <td>True</td>\n",
       "      <td>nan</td>\n",
       "      <td>nan</td>\n",
       "      <td>nan</td>\n",
       "      <td>nan</td>\n",
       "      <td>nan</td>\n",
       "      <td>nan</td>\n",
       "      <td>nan</td>\n",
       "    </tr>\n",
       "    <tr>\n",
       "      <th>3</th>\n",
       "      <td>Organic Search</td>\n",
       "      <td>20171016</td>\n",
       "      <td>9075655783635761930</td>\n",
       "      <td>Not Socially Engaged</td>\n",
       "      <td>1508169851</td>\n",
       "      <td>1</td>\n",
       "      <td>1508169851</td>\n",
       "      <td>Chrome</td>\n",
       "      <td>not available in demo dataset</td>\n",
       "      <td>not available in demo dataset</td>\n",
       "      <td>...</td>\n",
       "      <td>not available in demo dataset</td>\n",
       "      <td>nan</td>\n",
       "      <td>nan</td>\n",
       "      <td>nan</td>\n",
       "      <td>nan</td>\n",
       "      <td>nan</td>\n",
       "      <td>nan</td>\n",
       "      <td>nan</td>\n",
       "      <td>nan</td>\n",
       "      <td>nan</td>\n",
       "    </tr>\n",
       "    <tr>\n",
       "      <th>4</th>\n",
       "      <td>Organic Search</td>\n",
       "      <td>20171016</td>\n",
       "      <td>6960673291025684308</td>\n",
       "      <td>Not Socially Engaged</td>\n",
       "      <td>1508190552</td>\n",
       "      <td>1</td>\n",
       "      <td>1508190552</td>\n",
       "      <td>Chrome</td>\n",
       "      <td>not available in demo dataset</td>\n",
       "      <td>not available in demo dataset</td>\n",
       "      <td>...</td>\n",
       "      <td>not available in demo dataset</td>\n",
       "      <td>nan</td>\n",
       "      <td>nan</td>\n",
       "      <td>nan</td>\n",
       "      <td>nan</td>\n",
       "      <td>nan</td>\n",
       "      <td>nan</td>\n",
       "      <td>nan</td>\n",
       "      <td>nan</td>\n",
       "      <td>nan</td>\n",
       "    </tr>\n",
       "  </tbody>\n",
       "</table>\n",
       "<p>5 rows × 58 columns</p>\n",
       "</div>"
      ],
      "text/plain": [
       "  channelGrouping      date        fullVisitorId  socialEngagementType  \\\n",
       "0  Organic Search  20171016  3162355547410993243  Not Socially Engaged   \n",
       "1        Referral  20171016  8934116514970143966  Not Socially Engaged   \n",
       "2          Direct  20171016  7992466427990357681  Not Socially Engaged   \n",
       "3  Organic Search  20171016  9075655783635761930  Not Socially Engaged   \n",
       "4  Organic Search  20171016  6960673291025684308  Not Socially Engaged   \n",
       "\n",
       "      visitId  visitNumber  visitStartTime device_browser  \\\n",
       "0  1508198450            1      1508198450        Firefox   \n",
       "1  1508176307            6      1508176307         Chrome   \n",
       "2  1508201613            1      1508201613         Chrome   \n",
       "3  1508169851            1      1508169851         Chrome   \n",
       "4  1508190552            1      1508190552         Chrome   \n",
       "\n",
       "           device_browserVersion             device_browserSize  ...  \\\n",
       "0  not available in demo dataset  not available in demo dataset  ...   \n",
       "1  not available in demo dataset  not available in demo dataset  ...   \n",
       "2  not available in demo dataset  not available in demo dataset  ...   \n",
       "3  not available in demo dataset  not available in demo dataset  ...   \n",
       "4  not available in demo dataset  not available in demo dataset  ...   \n",
       "\n",
       "  trafficSource_adwordsClickInfo.criteriaParameters  \\\n",
       "0                     not available in demo dataset   \n",
       "1                     not available in demo dataset   \n",
       "2                     not available in demo dataset   \n",
       "3                     not available in demo dataset   \n",
       "4                     not available in demo dataset   \n",
       "\n",
       "                          trafficSource_referralPath  \\\n",
       "0                                                nan   \n",
       "1  /a/google.com/transportation/mtv-services/bike...   \n",
       "2                                                nan   \n",
       "3                                                nan   \n",
       "4                                                nan   \n",
       "\n",
       "   trafficSource_isTrueDirect trafficSource_adContent  \\\n",
       "0                         nan                     nan   \n",
       "1                         nan                     nan   \n",
       "2                        True                     nan   \n",
       "3                         nan                     nan   \n",
       "4                         nan                     nan   \n",
       "\n",
       "  trafficSource_adwordsClickInfo.page trafficSource_adwordsClickInfo.slot  \\\n",
       "0                                 nan                                 nan   \n",
       "1                                 nan                                 nan   \n",
       "2                                 nan                                 nan   \n",
       "3                                 nan                                 nan   \n",
       "4                                 nan                                 nan   \n",
       "\n",
       "  trafficSource_adwordsClickInfo.gclId  \\\n",
       "0                                  nan   \n",
       "1                                  nan   \n",
       "2                                  nan   \n",
       "3                                  nan   \n",
       "4                                  nan   \n",
       "\n",
       "  trafficSource_adwordsClickInfo.adNetworkType  \\\n",
       "0                                          nan   \n",
       "1                                          nan   \n",
       "2                                          nan   \n",
       "3                                          nan   \n",
       "4                                          nan   \n",
       "\n",
       "  trafficSource_adwordsClickInfo.isVideoAd trafficSource_campaignCode  \n",
       "0                                      nan                        nan  \n",
       "1                                      nan                        nan  \n",
       "2                                      nan                        nan  \n",
       "3                                      nan                        nan  \n",
       "4                                      nan                        nan  \n",
       "\n",
       "[5 rows x 58 columns]"
      ]
     },
     "metadata": {},
     "output_type": "display_data"
    }
   ],
   "source": [
    "# Load a subset (100,000 rows) of the data for testing purposes\n",
    "df = load_data('../data/raw/dataset.csv', nrows=1000000)\n",
    "\n",
    "# Inspect the first few rows to confirm the processing\n",
    "display(df.head())"
   ]
  },
  {
   "cell_type": "code",
   "execution_count": 132,
   "metadata": {},
   "outputs": [
    {
     "data": {
      "text/plain": [
       "(1000000, 58)"
      ]
     },
     "execution_count": 132,
     "metadata": {},
     "output_type": "execute_result"
    }
   ],
   "source": [
    "df.shape"
   ]
  },
  {
   "cell_type": "code",
   "execution_count": 148,
   "metadata": {},
   "outputs": [],
   "source": [
    "df.to_csv('../data/raw/readable_dataset.csv', index=False)"
   ]
  },
  {
   "cell_type": "markdown",
   "metadata": {},
   "source": [
    "## Data Cleaning and Transformation"
   ]
  },
  {
   "cell_type": "code",
   "execution_count": null,
   "metadata": {},
   "outputs": [],
   "source": []
  },
  {
   "cell_type": "code",
   "execution_count": 151,
   "metadata": {},
   "outputs": [
    {
     "data": {
      "text/plain": [
       "<bound method NDFrame.head of 0         3162355547410993243\n",
       "1         8934116514970143966\n",
       "2         7992466427990357681\n",
       "3         9075655783635761930\n",
       "4         6960673291025684308\n",
       "                 ...         \n",
       "999995    3725326097124390672\n",
       "999996    2158552115222657286\n",
       "999997    8157991262626030554\n",
       "999998    9963007161745063779\n",
       "999999    8111333210792218028\n",
       "Name: fullVisitorId, Length: 1000000, dtype: object>"
      ]
     },
     "execution_count": 151,
     "metadata": {},
     "output_type": "execute_result"
    }
   ],
   "source": [
    "df['fullVisitorId'].head"
   ]
  },
  {
   "cell_type": "code",
   "execution_count": 144,
   "metadata": {},
   "outputs": [
    {
     "data": {
      "text/plain": [
       "814597"
      ]
     },
     "execution_count": 144,
     "metadata": {},
     "output_type": "execute_result"
    }
   ],
   "source": [
    "df['fullVisitorId'].nunique()"
   ]
  },
  {
   "cell_type": "markdown",
   "metadata": {},
   "source": [
    "<br>\n",
    "\n",
    "---\n",
    "# Exploratory Data Analysis (EDA)"
   ]
  },
  {
   "cell_type": "markdown",
   "metadata": {},
   "source": [
    "### Initial Data Overview"
   ]
  },
  {
   "cell_type": "code",
   "execution_count": 89,
   "metadata": {},
   "outputs": [
    {
     "name": "stdout",
     "output_type": "stream",
     "text": [
      "<class 'pandas.core.frame.DataFrame'>\n",
      "RangeIndex: 1000000 entries, 0 to 999999\n",
      "Data columns (total 58 columns):\n",
      " #   Column                                             Non-Null Count    Dtype \n",
      "---  ------                                             --------------    ----- \n",
      " 0   channelGrouping                                    1000000 non-null  object\n",
      " 1   date                                               1000000 non-null  int64 \n",
      " 2   fullVisitorId                                      1000000 non-null  object\n",
      " 3   socialEngagementType                               1000000 non-null  object\n",
      " 4   visitId                                            1000000 non-null  int64 \n",
      " 5   visitNumber                                        1000000 non-null  int64 \n",
      " 6   visitStartTime                                     1000000 non-null  int64 \n",
      " 7   device_browser                                     1000000 non-null  object\n",
      " 8   device_browserVersion                              1000000 non-null  object\n",
      " 9   device_browserSize                                 1000000 non-null  object\n",
      " 10  device_operatingSystem                             1000000 non-null  object\n",
      " 11  device_operatingSystemVersion                      1000000 non-null  object\n",
      " 12  device_isMobile                                    1000000 non-null  int64 \n",
      " 13  device_mobileDeviceBranding                        1000000 non-null  object\n",
      " 14  device_mobileDeviceModel                           1000000 non-null  object\n",
      " 15  device_mobileInputSelector                         1000000 non-null  object\n",
      " 16  device_mobileDeviceInfo                            1000000 non-null  object\n",
      " 17  device_mobileDeviceMarketingName                   1000000 non-null  object\n",
      " 18  device_flashVersion                                1000000 non-null  object\n",
      " 19  device_language                                    1000000 non-null  object\n",
      " 20  device_screenColors                                1000000 non-null  object\n",
      " 21  device_screenResolution                            1000000 non-null  object\n",
      " 22  device_deviceCategory                              1000000 non-null  object\n",
      " 23  geoNetwork_continent                               1000000 non-null  object\n",
      " 24  geoNetwork_subContinent                            1000000 non-null  object\n",
      " 25  geoNetwork_country                                 1000000 non-null  object\n",
      " 26  geoNetwork_region                                  1000000 non-null  object\n",
      " 27  geoNetwork_metro                                   1000000 non-null  object\n",
      " 28  geoNetwork_city                                    1000000 non-null  object\n",
      " 29  geoNetwork_cityId                                  1000000 non-null  object\n",
      " 30  geoNetwork_networkDomain                           1000000 non-null  object\n",
      " 31  geoNetwork_latitude                                1000000 non-null  object\n",
      " 32  geoNetwork_longitude                               1000000 non-null  object\n",
      " 33  geoNetwork_networkLocation                         1000000 non-null  object\n",
      " 34  totals_visits                                      1000000 non-null  object\n",
      " 35  totals_hits                                        1000000 non-null  object\n",
      " 36  totals_pageviews                                   1000000 non-null  object\n",
      " 37  totals_bounces                                     1000000 non-null  object\n",
      " 38  totals_newVisits                                   1000000 non-null  object\n",
      " 39  totals_sessionQualityDim                           1000000 non-null  object\n",
      " 40  totals_timeOnSite                                  1000000 non-null  object\n",
      " 41  totals_transactions                                1000000 non-null  object\n",
      " 42  totals_transactionRevenue                          1000000 non-null  int64 \n",
      " 43  totals_totalTransactionRevenue                     1000000 non-null  object\n",
      " 44  trafficSource_campaign                             1000000 non-null  object\n",
      " 45  trafficSource_source                               1000000 non-null  object\n",
      " 46  trafficSource_medium                               1000000 non-null  object\n",
      " 47  trafficSource_keyword                              1000000 non-null  object\n",
      " 48  trafficSource_adwordsClickInfo.criteriaParameters  1000000 non-null  object\n",
      " 49  trafficSource_referralPath                         1000000 non-null  object\n",
      " 50  trafficSource_isTrueDirect                         1000000 non-null  object\n",
      " 51  trafficSource_adContent                            1000000 non-null  object\n",
      " 52  trafficSource_adwordsClickInfo.page                1000000 non-null  object\n",
      " 53  trafficSource_adwordsClickInfo.slot                1000000 non-null  object\n",
      " 54  trafficSource_adwordsClickInfo.gclId               1000000 non-null  object\n",
      " 55  trafficSource_adwordsClickInfo.adNetworkType       1000000 non-null  object\n",
      " 56  trafficSource_adwordsClickInfo.isVideoAd           1000000 non-null  object\n",
      " 57  trafficSource_campaignCode                         1000000 non-null  object\n",
      "dtypes: int64(6), object(52)\n",
      "memory usage: 442.5+ MB\n"
     ]
    }
   ],
   "source": [
    "# Overview of data types and missing values\n",
    "df.info()"
   ]
  },
  {
   "cell_type": "code",
   "execution_count": 90,
   "metadata": {},
   "outputs": [
    {
     "data": {
      "text/html": [
       "<div>\n",
       "<style scoped>\n",
       "    .dataframe tbody tr th:only-of-type {\n",
       "        vertical-align: middle;\n",
       "    }\n",
       "\n",
       "    .dataframe tbody tr th {\n",
       "        vertical-align: top;\n",
       "    }\n",
       "\n",
       "    .dataframe thead th {\n",
       "        text-align: right;\n",
       "    }\n",
       "</style>\n",
       "<table border=\"1\" class=\"dataframe\">\n",
       "  <thead>\n",
       "    <tr style=\"text-align: right;\">\n",
       "      <th></th>\n",
       "      <th>date</th>\n",
       "      <th>visitId</th>\n",
       "      <th>visitNumber</th>\n",
       "      <th>visitStartTime</th>\n",
       "      <th>device_isMobile</th>\n",
       "      <th>totals_transactionRevenue</th>\n",
       "    </tr>\n",
       "  </thead>\n",
       "  <tbody>\n",
       "    <tr>\n",
       "      <th>count</th>\n",
       "      <td>1.000000e+06</td>\n",
       "      <td>1.000000e+06</td>\n",
       "      <td>1000000.000000</td>\n",
       "      <td>1.000000e+06</td>\n",
       "      <td>1000000.000000</td>\n",
       "      <td>1.000000e+06</td>\n",
       "    </tr>\n",
       "    <tr>\n",
       "      <th>mean</th>\n",
       "      <td>2.016966e+07</td>\n",
       "      <td>1.497377e+09</td>\n",
       "      <td>2.315454</td>\n",
       "      <td>1.497377e+09</td>\n",
       "      <td>0.311362</td>\n",
       "      <td>1.325589e+06</td>\n",
       "    </tr>\n",
       "    <tr>\n",
       "      <th>std</th>\n",
       "      <td>6.541047e+03</td>\n",
       "      <td>1.634101e+07</td>\n",
       "      <td>9.210633</td>\n",
       "      <td>1.634101e+07</td>\n",
       "      <td>0.463051</td>\n",
       "      <td>4.613213e+07</td>\n",
       "    </tr>\n",
       "    <tr>\n",
       "      <th>min</th>\n",
       "      <td>2.016080e+07</td>\n",
       "      <td>1.470035e+09</td>\n",
       "      <td>1.000000</td>\n",
       "      <td>1.470035e+09</td>\n",
       "      <td>0.000000</td>\n",
       "      <td>0.000000e+00</td>\n",
       "    </tr>\n",
       "    <tr>\n",
       "      <th>25%</th>\n",
       "      <td>2.016120e+07</td>\n",
       "      <td>1.480951e+09</td>\n",
       "      <td>1.000000</td>\n",
       "      <td>1.480951e+09</td>\n",
       "      <td>0.000000</td>\n",
       "      <td>0.000000e+00</td>\n",
       "    </tr>\n",
       "    <tr>\n",
       "      <th>50%</th>\n",
       "      <td>2.017062e+07</td>\n",
       "      <td>1.498168e+09</td>\n",
       "      <td>1.000000</td>\n",
       "      <td>1.498168e+09</td>\n",
       "      <td>0.000000</td>\n",
       "      <td>0.000000e+00</td>\n",
       "    </tr>\n",
       "    <tr>\n",
       "      <th>75%</th>\n",
       "      <td>2.017113e+07</td>\n",
       "      <td>1.511974e+09</td>\n",
       "      <td>1.000000</td>\n",
       "      <td>1.511974e+09</td>\n",
       "      <td>1.000000</td>\n",
       "      <td>0.000000e+00</td>\n",
       "    </tr>\n",
       "    <tr>\n",
       "      <th>max</th>\n",
       "      <td>2.018043e+07</td>\n",
       "      <td>1.525072e+09</td>\n",
       "      <td>457.000000</td>\n",
       "      <td>1.525072e+09</td>\n",
       "      <td>1.000000</td>\n",
       "      <td>2.312950e+10</td>\n",
       "    </tr>\n",
       "  </tbody>\n",
       "</table>\n",
       "</div>"
      ],
      "text/plain": [
       "               date       visitId     visitNumber  visitStartTime  \\\n",
       "count  1.000000e+06  1.000000e+06  1000000.000000    1.000000e+06   \n",
       "mean   2.016966e+07  1.497377e+09        2.315454    1.497377e+09   \n",
       "std    6.541047e+03  1.634101e+07        9.210633    1.634101e+07   \n",
       "min    2.016080e+07  1.470035e+09        1.000000    1.470035e+09   \n",
       "25%    2.016120e+07  1.480951e+09        1.000000    1.480951e+09   \n",
       "50%    2.017062e+07  1.498168e+09        1.000000    1.498168e+09   \n",
       "75%    2.017113e+07  1.511974e+09        1.000000    1.511974e+09   \n",
       "max    2.018043e+07  1.525072e+09      457.000000    1.525072e+09   \n",
       "\n",
       "       device_isMobile  totals_transactionRevenue  \n",
       "count   1000000.000000               1.000000e+06  \n",
       "mean          0.311362               1.325589e+06  \n",
       "std           0.463051               4.613213e+07  \n",
       "min           0.000000               0.000000e+00  \n",
       "25%           0.000000               0.000000e+00  \n",
       "50%           0.000000               0.000000e+00  \n",
       "75%           1.000000               0.000000e+00  \n",
       "max           1.000000               2.312950e+10  "
      ]
     },
     "execution_count": 90,
     "metadata": {},
     "output_type": "execute_result"
    }
   ],
   "source": [
    "# Summary statistics of numeric columns\n",
    "df.describe()"
   ]
  },
  {
   "cell_type": "code",
   "execution_count": null,
   "metadata": {},
   "outputs": [],
   "source": []
  },
  {
   "cell_type": "code",
   "execution_count": 91,
   "metadata": {},
   "outputs": [
    {
     "name": "stdout",
     "output_type": "stream",
     "text": [
      "Number of duplicate rows: 0\n"
     ]
    }
   ],
   "source": [
    "# Check for duplicate rows\n",
    "duplicate_rows = df.duplicated().sum()\n",
    "print(f\"Number of duplicate rows: {duplicate_rows}\")"
   ]
  },
  {
   "cell_type": "markdown",
   "metadata": {},
   "source": [
    "### Distribution of `totals_transactionRevenue`"
   ]
  },
  {
   "cell_type": "code",
   "execution_count": 93,
   "metadata": {},
   "outputs": [],
   "source": [
    "# Calculate total revenue per user\n",
    "user_revenue = df.groupby('fullVisitorId')['totals_transactionRevenue'].sum()"
   ]
  },
  {
   "cell_type": "code",
   "execution_count": 94,
   "metadata": {},
   "outputs": [
    {
     "data": {
      "image/png": "[encoded data removed]",
      "text/plain": [
       "<Figure size 1200x600 with 1 Axes>"
      ]
     },
     "metadata": {},
     "output_type": "display_data"
    },
    {
     "data": {
      "image/png": "[encoded data removed]",
      "text/plain": [
       "<Figure size 1200x600 with 1 Axes>"
      ]
     },
     "metadata": {},
     "output_type": "display_data"
    }
   ],
   "source": [
    "import matplotlib.pyplot as plt\n",
    "import numpy as np\n",
    "import seaborn as sns\n",
    "\n",
    "# Setting up seaborn for aesthetic plots\n",
    "sns.set(style=\"whitegrid\")\n",
    "\n",
    "# Plot histogram of the total revenue\n",
    "plt.figure(figsize=(12, 6))\n",
    "sns.histplot(user_revenue[user_revenue > 0], bins=50, kde=True)\n",
    "plt.title(\"Distribution of Total Revenue per User (Raw)\")\n",
    "plt.xlabel(\"Total Revenue\")\n",
    "plt.show()\n",
    "\n",
    "# Plot histogram of log-transformed revenue\n",
    "log_user_revenue = np.log1p(user_revenue[user_revenue > 0])\n",
    "plt.figure(figsize=(12, 6))\n",
    "sns.histplot(log_user_revenue, bins=50, kde=True)\n",
    "plt.title(\"Distribution of Total Revenue per User (Log-Transformed)\")\n",
    "plt.xlabel(\"Log of Total Revenue\")\n",
    "plt.show()"
   ]
  },
  {
   "cell_type": "markdown",
   "metadata": {},
   "source": [
    "#### Checking skewness and kurtosis"
   ]
  },
  {
   "cell_type": "code",
   "execution_count": 96,
   "metadata": {},
   "outputs": [
    {
     "name": "stdout",
     "output_type": "stream",
     "text": [
      "\n",
      "Skewness of Raw Transaction Revenue: 265.72120506729357\n",
      "Kurtosis of Raw Transaction Revenue: 107159.7471797566\n"
     ]
    },
    {
     "ename": "KeyError",
     "evalue": "'log_transactionRevenue'",
     "output_type": "error",
     "traceback": [
      "\u001b[0;31m---------------------------------------------------------------------------\u001b[0m",
      "\u001b[0;31mKeyError\u001b[0m                                  Traceback (most recent call last)",
      "File \u001b[0;32m/opt/anaconda3/lib/python3.12/site-packages/pandas/core/indexes/base.py:3805\u001b[0m, in \u001b[0;36mIndex.get_loc\u001b[0;34m(self, key)\u001b[0m\n\u001b[1;32m   3804\u001b[0m \u001b[38;5;28;01mtry\u001b[39;00m:\n\u001b[0;32m-> 3805\u001b[0m     \u001b[38;5;28;01mreturn\u001b[39;00m \u001b[38;5;28mself\u001b[39m\u001b[38;5;241m.\u001b[39m_engine\u001b[38;5;241m.\u001b[39mget_loc(casted_key)\n\u001b[1;32m   3806\u001b[0m \u001b[38;5;28;01mexcept\u001b[39;00m \u001b[38;5;167;01mKeyError\u001b[39;00m \u001b[38;5;28;01mas\u001b[39;00m err:\n",
      "File \u001b[0;32mindex.pyx:167\u001b[0m, in \u001b[0;36mpandas._libs.index.IndexEngine.get_loc\u001b[0;34m()\u001b[0m\n",
      "File \u001b[0;32mindex.pyx:196\u001b[0m, in \u001b[0;36mpandas._libs.index.IndexEngine.get_loc\u001b[0;34m()\u001b[0m\n",
      "File \u001b[0;32mpandas/_libs/hashtable_class_helper.pxi:7081\u001b[0m, in \u001b[0;36mpandas._libs.hashtable.PyObjectHashTable.get_item\u001b[0;34m()\u001b[0m\n",
      "File \u001b[0;32mpandas/_libs/hashtable_class_helper.pxi:7089\u001b[0m, in \u001b[0;36mpandas._libs.hashtable.PyObjectHashTable.get_item\u001b[0;34m()\u001b[0m\n",
      "\u001b[0;31mKeyError\u001b[0m: 'log_transactionRevenue'",
      "\nThe above exception was the direct cause of the following exception:\n",
      "\u001b[0;31mKeyError\u001b[0m                                  Traceback (most recent call last)",
      "Cell \u001b[0;32mIn[96], line 5\u001b[0m\n\u001b[1;32m      3\u001b[0m \u001b[38;5;28mprint\u001b[39m(\u001b[38;5;124m\"\u001b[39m\u001b[38;5;130;01m\\n\u001b[39;00m\u001b[38;5;124mSkewness of Raw Transaction Revenue:\u001b[39m\u001b[38;5;124m\"\u001b[39m, skew(df[\u001b[38;5;124m'\u001b[39m\u001b[38;5;124mtotals_transactionRevenue\u001b[39m\u001b[38;5;124m'\u001b[39m]\u001b[38;5;241m.\u001b[39mdropna()))\n\u001b[1;32m      4\u001b[0m \u001b[38;5;28mprint\u001b[39m(\u001b[38;5;124m\"\u001b[39m\u001b[38;5;124mKurtosis of Raw Transaction Revenue:\u001b[39m\u001b[38;5;124m\"\u001b[39m, kurtosis(df[\u001b[38;5;124m'\u001b[39m\u001b[38;5;124mtotals_transactionRevenue\u001b[39m\u001b[38;5;124m'\u001b[39m]\u001b[38;5;241m.\u001b[39mdropna()))\n\u001b[0;32m----> 5\u001b[0m \u001b[38;5;28mprint\u001b[39m(\u001b[38;5;124m\"\u001b[39m\u001b[38;5;124mSkewness of Log-transformed Transaction Revenue:\u001b[39m\u001b[38;5;124m\"\u001b[39m, skew(df[\u001b[38;5;124m'\u001b[39m\u001b[38;5;124mlog_transactionRevenue\u001b[39m\u001b[38;5;124m'\u001b[39m]\u001b[38;5;241m.\u001b[39mdropna()))\n\u001b[1;32m      6\u001b[0m \u001b[38;5;28mprint\u001b[39m(\u001b[38;5;124m\"\u001b[39m\u001b[38;5;124mKurtosis of Log-transformed Transaction Revenue:\u001b[39m\u001b[38;5;124m\"\u001b[39m, kurtosis(df[\u001b[38;5;124m'\u001b[39m\u001b[38;5;124mlog_transactionRevenue\u001b[39m\u001b[38;5;124m'\u001b[39m]\u001b[38;5;241m.\u001b[39mdropna()))\n",
      "File \u001b[0;32m/opt/anaconda3/lib/python3.12/site-packages/pandas/core/frame.py:4102\u001b[0m, in \u001b[0;36mDataFrame.__getitem__\u001b[0;34m(self, key)\u001b[0m\n\u001b[1;32m   4100\u001b[0m \u001b[38;5;28;01mif\u001b[39;00m \u001b[38;5;28mself\u001b[39m\u001b[38;5;241m.\u001b[39mcolumns\u001b[38;5;241m.\u001b[39mnlevels \u001b[38;5;241m>\u001b[39m \u001b[38;5;241m1\u001b[39m:\n\u001b[1;32m   4101\u001b[0m     \u001b[38;5;28;01mreturn\u001b[39;00m \u001b[38;5;28mself\u001b[39m\u001b[38;5;241m.\u001b[39m_getitem_multilevel(key)\n\u001b[0;32m-> 4102\u001b[0m indexer \u001b[38;5;241m=\u001b[39m \u001b[38;5;28mself\u001b[39m\u001b[38;5;241m.\u001b[39mcolumns\u001b[38;5;241m.\u001b[39mget_loc(key)\n\u001b[1;32m   4103\u001b[0m \u001b[38;5;28;01mif\u001b[39;00m is_integer(indexer):\n\u001b[1;32m   4104\u001b[0m     indexer \u001b[38;5;241m=\u001b[39m [indexer]\n",
      "File \u001b[0;32m/opt/anaconda3/lib/python3.12/site-packages/pandas/core/indexes/base.py:3812\u001b[0m, in \u001b[0;36mIndex.get_loc\u001b[0;34m(self, key)\u001b[0m\n\u001b[1;32m   3807\u001b[0m     \u001b[38;5;28;01mif\u001b[39;00m \u001b[38;5;28misinstance\u001b[39m(casted_key, \u001b[38;5;28mslice\u001b[39m) \u001b[38;5;129;01mor\u001b[39;00m (\n\u001b[1;32m   3808\u001b[0m         \u001b[38;5;28misinstance\u001b[39m(casted_key, abc\u001b[38;5;241m.\u001b[39mIterable)\n\u001b[1;32m   3809\u001b[0m         \u001b[38;5;129;01mand\u001b[39;00m \u001b[38;5;28many\u001b[39m(\u001b[38;5;28misinstance\u001b[39m(x, \u001b[38;5;28mslice\u001b[39m) \u001b[38;5;28;01mfor\u001b[39;00m x \u001b[38;5;129;01min\u001b[39;00m casted_key)\n\u001b[1;32m   3810\u001b[0m     ):\n\u001b[1;32m   3811\u001b[0m         \u001b[38;5;28;01mraise\u001b[39;00m InvalidIndexError(key)\n\u001b[0;32m-> 3812\u001b[0m     \u001b[38;5;28;01mraise\u001b[39;00m \u001b[38;5;167;01mKeyError\u001b[39;00m(key) \u001b[38;5;28;01mfrom\u001b[39;00m \u001b[38;5;21;01merr\u001b[39;00m\n\u001b[1;32m   3813\u001b[0m \u001b[38;5;28;01mexcept\u001b[39;00m \u001b[38;5;167;01mTypeError\u001b[39;00m:\n\u001b[1;32m   3814\u001b[0m     \u001b[38;5;66;03m# If we have a listlike key, _check_indexing_error will raise\u001b[39;00m\n\u001b[1;32m   3815\u001b[0m     \u001b[38;5;66;03m#  InvalidIndexError. Otherwise we fall through and re-raise\u001b[39;00m\n\u001b[1;32m   3816\u001b[0m     \u001b[38;5;66;03m#  the TypeError.\u001b[39;00m\n\u001b[1;32m   3817\u001b[0m     \u001b[38;5;28mself\u001b[39m\u001b[38;5;241m.\u001b[39m_check_indexing_error(key)\n",
      "\u001b[0;31mKeyError\u001b[0m: 'log_transactionRevenue'"
     ]
    }
   ],
   "source": [
    "from scipy.stats import skew, kurtosis\n",
    "\n",
    "print(\"\\nSkewness of Raw Transaction Revenue:\", skew(df['totals_transactionRevenue'].dropna()))\n",
    "print(\"Kurtosis of Raw Transaction Revenue:\", kurtosis(df['totals_transactionRevenue'].dropna()))\n",
    "print(\"Skewness of Log-transformed Transaction Revenue:\", skew(df['log_transactionRevenue'].dropna()))\n",
    "print(\"Kurtosis of Log-transformed Transaction Revenue:\", kurtosis(df['log_transactionRevenue'].dropna()))"
   ]
  },
  {
   "cell_type": "markdown",
   "metadata": {},
   "source": [
    "#### Interpretation\n",
    "\n",
    "##### Raw Transaction Revenue\n",
    "**Skewness: 265.72**\n",
    "\n",
    "- This extremely high positive skewness value indicates a very strong right skew. In other words, the distribution is heavily weighted toward lower values, with a long tail of very high revenue values.\n",
    "Such high skewness is typical in e-commerce revenue data, where most users have low or zero revenue, and a few users contribute significantly more.\n",
    "\n",
    "**Kurtosis: 107,159.75**\n",
    "\n",
    "-This exceptionally high kurtosis value indicates extremely heavy tails, meaning that there are many extreme outliers (high-revenue users) in the data.\n",
    "High kurtosis in the raw transaction revenue distribution shows that the distribution has far more extreme values than a normal distribution, which is often challenging for models to handle.\n",
    "Together, these values tell us that the raw transaction revenue is highly skewed and has a large number of outliers, making it unsuitable for direct modeling.\n",
    "\n",
    "<br>\n",
    "\n",
    "##### Log-Transformed Transaction Revenue\n",
    "**Skewness: 9.55**\n",
    "\n",
    "- Although the skewness of the log-transformed revenue is still positive, it’s significantly lower than the skewness of the raw data. This reduction shows that log transformation has helped to reduce skewness, although some right skew still remains.\n",
    "\n",
    "**Kurtosis: 89.57**\n",
    "\n",
    "The kurtosis is still high but greatly reduced compared to the raw data. \n",
    "- This suggests that while there are still some extreme values, the distribution is less heavy-tailed after the log transformation."
   ]
  },
  {
   "cell_type": "markdown",
   "metadata": {},
   "source": [
    "### Revenue Analysis per User"
   ]
  },
  {
   "cell_type": "code",
   "execution_count": null,
   "metadata": {},
   "outputs": [],
   "source": [
    "# Aggregate revenue per user, log-transform, and plot distribution\n",
    "user_revenue = df.groupby('fullVisitorId')['totals_transactionRevenue'].sum()\n",
    "plt.figure(figsize=(10, 5))\n",
    "sns.histplot(np.log1p(user_revenue), bins=50, kde=True)\n",
    "plt.title(\"Distribution of Total Revenue per User (Log-transformed)\")\n",
    "plt.xlabel(\"Log-transformed Total Revenue per User\")\n",
    "plt.ylabel(\"Frequency\")\n",
    "plt.show()"
   ]
  },
  {
   "cell_type": "markdown",
   "metadata": {},
   "source": [
    "#### Interpretation\n",
    "1. High Concentration at Zero or Near-Zero Revenue:\n",
    "\n",
    "- The majority of users are clustered around a log-transformed revenue of close to zero. This means that most users have either zero revenue or very low total revenue.\n",
    "- This distribution is common in e-commerce, where most customers may browse but not make a purchase, leading to a high frequency of low or zero revenue values."
   ]
  },
  {
   "cell_type": "code",
   "execution_count": null,
   "metadata": {},
   "outputs": [],
   "source": [
    "paying_user_revenue = user_revenue[user_revenue > 0]\n",
    "plt.figure(figsize=(10, 5))\n",
    "sns.histplot(np.log1p(paying_user_revenue), bins=50, kde=True)\n",
    "plt.title(\"Distribution of Total Revenue per Paying User (Log-transformed)\")\n",
    "plt.xlabel(\"Log-transformed Total Revenue per User\")\n",
    "plt.ylabel(\"Frequency\")\n",
    "plt.show()"
   ]
  },
  {
   "cell_type": "markdown",
   "metadata": {},
   "source": [
    "### Categorical Variable Analysis"
   ]
  },
  {
   "cell_type": "markdown",
   "metadata": {},
   "source": [
    "#### Channel Grouping"
   ]
  },
  {
   "cell_type": "code",
   "execution_count": null,
   "metadata": {},
   "outputs": [],
   "source": [
    "plt.figure(figsize=(12, 6))\n",
    "sns.countplot(y='channelGrouping', data=df, order=df['channelGrouping'].value_counts().index)\n",
    "plt.title(\"Distribution of Channel Grouping\")\n",
    "plt.xlabel(\"Count\")\n",
    "plt.ylabel(\"Channel Grouping\")\n",
    "plt.show()"
   ]
  },
  {
   "cell_type": "markdown",
   "metadata": {},
   "source": [
    "<br>\n",
    "\n",
    "#### Device Category"
   ]
  },
  {
   "cell_type": "code",
   "execution_count": null,
   "metadata": {},
   "outputs": [],
   "source": [
    "\n",
    "plt.figure(figsize=(10, 5))\n",
    "sns.countplot(y='device_deviceCategory', data=df, order=df['device_deviceCategory'].value_counts().index)\n",
    "plt.title(\"Distribution of Device Category\")\n",
    "plt.xlabel(\"Count\")\n",
    "plt.ylabel(\"Device Category\")\n",
    "plt.show()"
   ]
  },
  {
   "cell_type": "markdown",
   "metadata": {},
   "source": [
    "<br>\n",
    "\n",
    "#### Country Distribution - Top 10 Countries by Visit Frequency"
   ]
  },
  {
   "cell_type": "code",
   "execution_count": null,
   "metadata": {},
   "outputs": [],
   "source": [
    "top_countries = df['geoNetwork_country'].value_counts().head(10).index\n",
    "plt.figure(figsize=(12, 6))\n",
    "sns.countplot(y='geoNetwork_country', data=df[df['geoNetwork_country'].isin(top_countries)], \n",
    "              order=top_countries)\n",
    "plt.title(\"Top 10 Countries by Visit Frequency\")\n",
    "plt.xlabel(\"Count\")\n",
    "plt.ylabel(\"Country\")\n",
    "plt.show()"
   ]
  },
  {
   "cell_type": "markdown",
   "metadata": {},
   "source": [
    "<br>\n",
    "\n",
    "#### Correlation matrix\n",
    "Calculate and visualize correlation matrix for numerical columns"
   ]
  },
  {
   "cell_type": "code",
   "execution_count": null,
   "metadata": {},
   "outputs": [],
   "source": [
    "import matplotlib.pyplot as plt\n",
    "import seaborn as sns\n",
    "\n",
    "# Filter for only numeric columns\n",
    "numeric_df = df.select_dtypes(include=[np.number])\n",
    "\n",
    "# Calculate the correlation matrix\n",
    "correlation_matrix = numeric_df.corr()\n",
    "\n",
    "# Plot the correlation matrix\n",
    "plt.figure(figsize=(10, 8))\n",
    "sns.heatmap(correlation_matrix, annot=True, fmt=\".2f\", cmap=\"coolwarm\")\n",
    "plt.title(\"Correlation Matrix of Numerical Features\")\n",
    "plt.show()\n"
   ]
  }
 ],
 "metadata": {
  "kernelspec": {
   "display_name": "Python 3 (ipykernel)",
   "language": "python",
   "name": "python3"
  },
  "language_info": {
   "codemirror_mode": {
    "name": "ipython",
    "version": 3
   },
   "file_extension": ".py",
   "mimetype": "text/x-python",
   "name": "python",
   "nbconvert_exporter": "python",
   "pygments_lexer": "ipython3",
   "version": "3.12.2"
  }
 },
 "nbformat": 4,
 "nbformat_minor": 4
}

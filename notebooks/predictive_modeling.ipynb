{
 "cells": [
  {
   "cell_type": "code",
   "execution_count": 7,
   "id": "126d3a96-47c1-4304-9013-ebbe2e76c7c9",
   "metadata": {},
   "outputs": [],
   "source": [
    "import pandas as pd\n",
    "import numpy as np\n",
    "\n",
    "import matplotlib.pyplot as plt\n",
    "import seaborn as sns"
   ]
  },
  {
   "cell_type": "code",
   "execution_count": 9,
   "id": "00c0682f-1f17-4ba6-b7ed-f6fc7579ce2e",
   "metadata": {},
   "outputs": [
    {
     "name": "stderr",
     "output_type": "stream",
     "text": [
      "/var/folders/t_/k5bhrc1x419crrfg_t8zp5nm0000gp/T/ipykernel_7867/101853793.py:1: DtypeWarning: Columns (0) have mixed types. Specify dtype option on import or set low_memory=False.\n",
      "  customer_df = pd.read_csv('../data/clean/customer_dataset_transformed.csv')\n"
     ]
    },
    {
     "data": {
      "text/html": [
       "<div>\n",
       "<style scoped>\n",
       "    .dataframe tbody tr th:only-of-type {\n",
       "        vertical-align: middle;\n",
       "    }\n",
       "\n",
       "    .dataframe tbody tr th {\n",
       "        vertical-align: top;\n",
       "    }\n",
       "\n",
       "    .dataframe thead th {\n",
       "        text-align: right;\n",
       "    }\n",
       "</style>\n",
       "<table border=\"1\" class=\"dataframe\">\n",
       "  <thead>\n",
       "    <tr style=\"text-align: right;\">\n",
       "      <th></th>\n",
       "      <th>fullVisitorId</th>\n",
       "      <th>visit_number</th>\n",
       "      <th>hits_per_visit</th>\n",
       "      <th>bounced</th>\n",
       "      <th>time_on_site</th>\n",
       "      <th>totals_transactionRevenue</th>\n",
       "      <th>log_transactionRevenue</th>\n",
       "      <th>day_of_week</th>\n",
       "      <th>month</th>\n",
       "      <th>channelGrouping</th>\n",
       "      <th>device_category</th>\n",
       "      <th>country</th>\n",
       "      <th>is_weekend</th>\n",
       "      <th>is_holiday_season</th>\n",
       "    </tr>\n",
       "  </thead>\n",
       "  <tbody>\n",
       "    <tr>\n",
       "      <th>0</th>\n",
       "      <td>59488412965267</td>\n",
       "      <td>1</td>\n",
       "      <td>1</td>\n",
       "      <td>1.0</td>\n",
       "      <td>0</td>\n",
       "      <td>0</td>\n",
       "      <td>0.0</td>\n",
       "      <td>2</td>\n",
       "      <td>2</td>\n",
       "      <td>2</td>\n",
       "      <td>1</td>\n",
       "      <td>213</td>\n",
       "      <td>0.0</td>\n",
       "      <td>0.0</td>\n",
       "    </tr>\n",
       "    <tr>\n",
       "      <th>1</th>\n",
       "      <td>85840370633780</td>\n",
       "      <td>1</td>\n",
       "      <td>2</td>\n",
       "      <td>0.0</td>\n",
       "      <td>13</td>\n",
       "      <td>0</td>\n",
       "      <td>0.0</td>\n",
       "      <td>4</td>\n",
       "      <td>9</td>\n",
       "      <td>4</td>\n",
       "      <td>0</td>\n",
       "      <td>213</td>\n",
       "      <td>0.0</td>\n",
       "      <td>0.0</td>\n",
       "    </tr>\n",
       "    <tr>\n",
       "      <th>2</th>\n",
       "      <td>118334805178127</td>\n",
       "      <td>1</td>\n",
       "      <td>1</td>\n",
       "      <td>1.0</td>\n",
       "      <td>0</td>\n",
       "      <td>0</td>\n",
       "      <td>0.0</td>\n",
       "      <td>4</td>\n",
       "      <td>10</td>\n",
       "      <td>3</td>\n",
       "      <td>1</td>\n",
       "      <td>213</td>\n",
       "      <td>0.0</td>\n",
       "      <td>0.0</td>\n",
       "    </tr>\n",
       "    <tr>\n",
       "      <th>3</th>\n",
       "      <td>166374699289385</td>\n",
       "      <td>1</td>\n",
       "      <td>5</td>\n",
       "      <td>0.0</td>\n",
       "      <td>41</td>\n",
       "      <td>0</td>\n",
       "      <td>0.0</td>\n",
       "      <td>2</td>\n",
       "      <td>8</td>\n",
       "      <td>4</td>\n",
       "      <td>0</td>\n",
       "      <td>213</td>\n",
       "      <td>0.0</td>\n",
       "      <td>0.0</td>\n",
       "    </tr>\n",
       "    <tr>\n",
       "      <th>4</th>\n",
       "      <td>197671390269035</td>\n",
       "      <td>1</td>\n",
       "      <td>1</td>\n",
       "      <td>1.0</td>\n",
       "      <td>0</td>\n",
       "      <td>0</td>\n",
       "      <td>0.0</td>\n",
       "      <td>1</td>\n",
       "      <td>5</td>\n",
       "      <td>7</td>\n",
       "      <td>1</td>\n",
       "      <td>213</td>\n",
       "      <td>0.0</td>\n",
       "      <td>0.0</td>\n",
       "    </tr>\n",
       "  </tbody>\n",
       "</table>\n",
       "</div>"
      ],
      "text/plain": [
       "     fullVisitorId  visit_number  hits_per_visit  bounced  time_on_site  \\\n",
       "0   59488412965267             1               1      1.0             0   \n",
       "1   85840370633780             1               2      0.0            13   \n",
       "2  118334805178127             1               1      1.0             0   \n",
       "3  166374699289385             1               5      0.0            41   \n",
       "4  197671390269035             1               1      1.0             0   \n",
       "\n",
       "   totals_transactionRevenue  log_transactionRevenue  day_of_week  month  \\\n",
       "0                          0                     0.0            2      2   \n",
       "1                          0                     0.0            4      9   \n",
       "2                          0                     0.0            4     10   \n",
       "3                          0                     0.0            2      8   \n",
       "4                          0                     0.0            1      5   \n",
       "\n",
       "   channelGrouping  device_category  country  is_weekend  is_holiday_season  \n",
       "0                2                1      213         0.0                0.0  \n",
       "1                4                0      213         0.0                0.0  \n",
       "2                3                1      213         0.0                0.0  \n",
       "3                4                0      213         0.0                0.0  \n",
       "4                7                1      213         0.0                0.0  "
      ]
     },
     "metadata": {},
     "output_type": "display_data"
    }
   ],
   "source": [
    "customer_df = pd.read_csv('../data/clean/customer_dataset_transformed.csv')\n",
    "\n",
    "display(customer_df.head())"
   ]
  },
  {
   "cell_type": "markdown",
   "id": "4ed27d35-33c6-4974-9b7d-2eda6d8e25d0",
   "metadata": {},
   "source": [
    "# Model Implementation"
   ]
  },
  {
   "cell_type": "markdown",
   "id": "9f887400-011d-44b3-b3ea-44eb76cc3339",
   "metadata": {},
   "source": [
    "### Stage 1: Train a Classification model to predict if a user will make a purchase (`log_transactionRevenue` > 0)\n",
    "#### Create a binary `purchase_flag` column (`purchase_flag = (log_transactionRevenue > 0).astype(int)`)\n",
    "    - 1 if `log_transactionRevenue` > 0 (user made a purchase).\n",
    "    - 0 if `log_transactionRevenue` == 0 (user didn’t make a purchase).\n"
   ]
  },
  {
   "cell_type": "code",
   "execution_count": 27,
   "id": "1cfb8a97-dd87-4fba-8880-70a9ad553e2a",
   "metadata": {},
   "outputs": [
    {
     "name": "stdout",
     "output_type": "stream",
     "text": [
      "purchase_flag\n",
      "0    803590\n",
      "1      9772\n",
      "Name: count, dtype: int64\n"
     ]
    }
   ],
   "source": [
    "# Create the purchase_flag column\n",
    "customer_df['purchase_flag'] = (customer_df['log_transactionRevenue'] > 0).astype(int)\n",
    "\n",
    "# Check the distribution of the target variable\n",
    "print(customer_df['purchase_flag'].value_counts())"
   ]
  },
  {
   "cell_type": "markdown",
   "id": "e4a46667-58bb-4828-b991-ee8386c03338",
   "metadata": {},
   "source": [
    "<br>\n",
    "\n",
    "#### Prepare Data for Classification"
   ]
  },
  {
   "cell_type": "code",
   "execution_count": 44,
   "id": "de395c67-edc5-4480-bad8-e1fbbf97f1d8",
   "metadata": {},
   "outputs": [
    {
     "name": "stdout",
     "output_type": "stream",
     "text": [
      "Training set size: (650689, 11)\n",
      "Testing set size: (162673, 11)\n"
     ]
    }
   ],
   "source": [
    "from sklearn.model_selection import train_test_split\n",
    "\n",
    "# Features and target\n",
    "X = customer_df.drop(columns=['log_transactionRevenue', 'purchase_flag', 'totals_transactionRevenue', 'fullVisitorId'])\n",
    "y = customer_df['purchase_flag']\n",
    "\n",
    "# Split the data\n",
    "X_train, X_test, y_train, y_test = train_test_split(X, y, test_size=0.2, random_state=42, stratify=y)\n",
    "print(f\"Training set size: {X_train.shape}\")\n",
    "print(f\"Testing set size: {X_test.shape}\")\n"
   ]
  },
  {
   "cell_type": "markdown",
   "id": "a7caadde-7031-409a-81eb-e7d4eb0b08c0",
   "metadata": {},
   "source": [
    "<br>\n",
    "\n",
    "#### Train a Classification Model: Random Forest\n",
    "Random Forest is selected as initial model due to its ability to handle categorical and numerical features without scaling."
   ]
  },
  {
   "cell_type": "code",
   "execution_count": 56,
   "id": "bbef0441-8b58-4571-a16d-c56e989cf1e2",
   "metadata": {},
   "outputs": [
    {
     "name": "stdout",
     "output_type": "stream",
     "text": [
      "Classification Report:\n",
      "               precision    recall  f1-score   support\n",
      "\n",
      "           0       0.99      1.00      0.99    160719\n",
      "           1       0.53      0.27      0.36      1954\n",
      "\n",
      "    accuracy                           0.99    162673\n",
      "   macro avg       0.76      0.63      0.68    162673\n",
      "weighted avg       0.99      0.99      0.99    162673\n",
      "\n",
      "ROC-AUC Score: 0.9768\n"
     ]
    }
   ],
   "source": [
    "from sklearn.ensemble import RandomForestClassifier\n",
    "from sklearn.metrics import classification_report, roc_auc_score\n",
    "\n",
    "# Train a Random Forest Classifier\n",
    "rf_model = RandomForestClassifier(random_state=42, n_estimators=100)\n",
    "rf_model.fit(X_train, y_train)\n",
    "\n",
    "# Predict on the test set\n",
    "y_pred = rf_model.predict(X_test)\n",
    "y_pred_prob = rf_model.predict_proba(X_test)[:, 1]  # Probabilities for class 1, required to evaluate the performance metric ROC-AUC\n",
    "\n",
    "# Evaluate the model\n",
    "print(\"Classification Report:\\n\", classification_report(y_test, y_pred))\n",
    "print(f\"ROC-AUC Score: {roc_auc_score(y_test, y_pred_prob):.4f}\")\n"
   ]
  },
  {
   "cell_type": "markdown",
   "id": "37641120-62de-40a6-8ed8-5626c2275076",
   "metadata": {},
   "source": [
    "The ROC-AUC measures the model's ability to distinguish between classes."
   ]
  },
  {
   "cell_type": "markdown",
   "id": "0c676b70-b8b0-478a-aa1e-8399cdcc9d9a",
   "metadata": {},
   "source": [
    "#### Interpretation\n",
    "1. **ROC-AUC Score: 0.9768**: the model is very good at distinguishing between buyers (class 1) and non-buyers (class 0). However, a high AUC does not guarantee good performance for imbalanced datasets.\n",
    "\n",
    "##### Class 1 (Buyers)\n",
    "2. **Precision = 0.53**: Only 53% of users predicted as buyers were actual buyers; The model makes a lot of false positives for class 1.\n",
    "3. **Recall = 0.27**: The model only identifies 27% of actual buyers; Many actual buyers are missed (false negatives are high).\n",
    "4. **F1-Score = 0.36**: This combines precision and recall and reflecs poor performance for buyers (class 1).\n",
    "\n",
    "##### Overall metrics\n",
    "5. Accuracy = 0.99: Accuracy is misleadingly high because class 0 (non-buyers) dominates the dataset. The model predicts class 0 very well due to its imbalance, inflating the accuracy.\n",
    "6. Macro Avg (Precision, Recall, F1-Score): These metrics take the average of the metrics for both classes without weighting by class size.\n",
    "7. Weighted Avg (Precision, Recall, F1-Score): These metrics are weighted by the number of samples in each class. Since class 0 dominates, the weighted average heavily reflects its performance.\n",
    "\n",
    "\n",
    "#### Summary:\n",
    "- Model Bias Towards Class 0:\n",
    "    - The model performs almost perfectly for class 0 (non-buyers), but struggles with class 1 (buyers). This is common in imbalanced datasets.\n",
    "\n",
    "- High False Negatives for Class 1:\n",
    "    - The recall for class 1 is low (0.27), meaning the model misses most buyers. This is problematic because in marketing applications, identifying buyers is the goal."
   ]
  },
  {
   "cell_type": "code",
   "execution_count": null,
   "id": "68ef84c7-6656-4cb7-84d1-c2635d414535",
   "metadata": {},
   "outputs": [],
   "source": []
  }
 ],
 "metadata": {
  "kernelspec": {
   "display_name": "Python 3 (ipykernel)",
   "language": "python",
   "name": "python3"
  },
  "language_info": {
   "codemirror_mode": {
    "name": "ipython",
    "version": 3
   },
   "file_extension": ".py",
   "mimetype": "text/x-python",
   "name": "python",
   "nbconvert_exporter": "python",
   "pygments_lexer": "ipython3",
   "version": "3.12.2"
  }
 },
 "nbformat": 4,
 "nbformat_minor": 5
}

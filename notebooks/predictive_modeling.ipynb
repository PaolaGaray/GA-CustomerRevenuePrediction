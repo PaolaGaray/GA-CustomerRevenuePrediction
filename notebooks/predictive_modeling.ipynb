{
 "cells": [
  {
   "cell_type": "code",
   "execution_count": 109,
   "id": "126d3a96-47c1-4304-9013-ebbe2e76c7c9",
   "metadata": {},
   "outputs": [],
   "source": [
    "import pandas as pd\n",
    "import numpy as np\n",
    "\n",
    "import matplotlib.pyplot as plt\n",
    "import seaborn as sns"
   ]
  },
  {
   "cell_type": "code",
   "execution_count": 111,
   "id": "00c0682f-1f17-4ba6-b7ed-f6fc7579ce2e",
   "metadata": {},
   "outputs": [
    {
     "name": "stderr",
     "output_type": "stream",
     "text": [
      "/var/folders/t_/k5bhrc1x419crrfg_t8zp5nm0000gp/T/ipykernel_7867/101853793.py:1: DtypeWarning: Columns (0) have mixed types. Specify dtype option on import or set low_memory=False.\n",
      "  customer_df = pd.read_csv('../data/clean/customer_dataset_transformed.csv')\n"
     ]
    },
    {
     "data": {
      "text/html": [
       "<div>\n",
       "<style scoped>\n",
       "    .dataframe tbody tr th:only-of-type {\n",
       "        vertical-align: middle;\n",
       "    }\n",
       "\n",
       "    .dataframe tbody tr th {\n",
       "        vertical-align: top;\n",
       "    }\n",
       "\n",
       "    .dataframe thead th {\n",
       "        text-align: right;\n",
       "    }\n",
       "</style>\n",
       "<table border=\"1\" class=\"dataframe\">\n",
       "  <thead>\n",
       "    <tr style=\"text-align: right;\">\n",
       "      <th></th>\n",
       "      <th>fullVisitorId</th>\n",
       "      <th>visit_number</th>\n",
       "      <th>hits_per_visit</th>\n",
       "      <th>bounced</th>\n",
       "      <th>time_on_site</th>\n",
       "      <th>totals_transactionRevenue</th>\n",
       "      <th>log_transactionRevenue</th>\n",
       "      <th>day_of_week</th>\n",
       "      <th>month</th>\n",
       "      <th>channelGrouping</th>\n",
       "      <th>device_category</th>\n",
       "      <th>country</th>\n",
       "      <th>is_weekend</th>\n",
       "      <th>is_holiday_season</th>\n",
       "    </tr>\n",
       "  </thead>\n",
       "  <tbody>\n",
       "    <tr>\n",
       "      <th>0</th>\n",
       "      <td>59488412965267</td>\n",
       "      <td>1</td>\n",
       "      <td>1</td>\n",
       "      <td>1.0</td>\n",
       "      <td>0</td>\n",
       "      <td>0</td>\n",
       "      <td>0.0</td>\n",
       "      <td>2</td>\n",
       "      <td>2</td>\n",
       "      <td>2</td>\n",
       "      <td>1</td>\n",
       "      <td>213</td>\n",
       "      <td>0.0</td>\n",
       "      <td>0.0</td>\n",
       "    </tr>\n",
       "    <tr>\n",
       "      <th>1</th>\n",
       "      <td>85840370633780</td>\n",
       "      <td>1</td>\n",
       "      <td>2</td>\n",
       "      <td>0.0</td>\n",
       "      <td>13</td>\n",
       "      <td>0</td>\n",
       "      <td>0.0</td>\n",
       "      <td>4</td>\n",
       "      <td>9</td>\n",
       "      <td>4</td>\n",
       "      <td>0</td>\n",
       "      <td>213</td>\n",
       "      <td>0.0</td>\n",
       "      <td>0.0</td>\n",
       "    </tr>\n",
       "    <tr>\n",
       "      <th>2</th>\n",
       "      <td>118334805178127</td>\n",
       "      <td>1</td>\n",
       "      <td>1</td>\n",
       "      <td>1.0</td>\n",
       "      <td>0</td>\n",
       "      <td>0</td>\n",
       "      <td>0.0</td>\n",
       "      <td>4</td>\n",
       "      <td>10</td>\n",
       "      <td>3</td>\n",
       "      <td>1</td>\n",
       "      <td>213</td>\n",
       "      <td>0.0</td>\n",
       "      <td>0.0</td>\n",
       "    </tr>\n",
       "    <tr>\n",
       "      <th>3</th>\n",
       "      <td>166374699289385</td>\n",
       "      <td>1</td>\n",
       "      <td>5</td>\n",
       "      <td>0.0</td>\n",
       "      <td>41</td>\n",
       "      <td>0</td>\n",
       "      <td>0.0</td>\n",
       "      <td>2</td>\n",
       "      <td>8</td>\n",
       "      <td>4</td>\n",
       "      <td>0</td>\n",
       "      <td>213</td>\n",
       "      <td>0.0</td>\n",
       "      <td>0.0</td>\n",
       "    </tr>\n",
       "    <tr>\n",
       "      <th>4</th>\n",
       "      <td>197671390269035</td>\n",
       "      <td>1</td>\n",
       "      <td>1</td>\n",
       "      <td>1.0</td>\n",
       "      <td>0</td>\n",
       "      <td>0</td>\n",
       "      <td>0.0</td>\n",
       "      <td>1</td>\n",
       "      <td>5</td>\n",
       "      <td>7</td>\n",
       "      <td>1</td>\n",
       "      <td>213</td>\n",
       "      <td>0.0</td>\n",
       "      <td>0.0</td>\n",
       "    </tr>\n",
       "  </tbody>\n",
       "</table>\n",
       "</div>"
      ],
      "text/plain": [
       "     fullVisitorId  visit_number  hits_per_visit  bounced  time_on_site  \\\n",
       "0   59488412965267             1               1      1.0             0   \n",
       "1   85840370633780             1               2      0.0            13   \n",
       "2  118334805178127             1               1      1.0             0   \n",
       "3  166374699289385             1               5      0.0            41   \n",
       "4  197671390269035             1               1      1.0             0   \n",
       "\n",
       "   totals_transactionRevenue  log_transactionRevenue  day_of_week  month  \\\n",
       "0                          0                     0.0            2      2   \n",
       "1                          0                     0.0            4      9   \n",
       "2                          0                     0.0            4     10   \n",
       "3                          0                     0.0            2      8   \n",
       "4                          0                     0.0            1      5   \n",
       "\n",
       "   channelGrouping  device_category  country  is_weekend  is_holiday_season  \n",
       "0                2                1      213         0.0                0.0  \n",
       "1                4                0      213         0.0                0.0  \n",
       "2                3                1      213         0.0                0.0  \n",
       "3                4                0      213         0.0                0.0  \n",
       "4                7                1      213         0.0                0.0  "
      ]
     },
     "metadata": {},
     "output_type": "display_data"
    }
   ],
   "source": [
    "customer_df = pd.read_csv('../data/clean/customer_dataset_transformed.csv')\n",
    "\n",
    "display(customer_df.head())"
   ]
  },
  {
   "cell_type": "code",
   "execution_count": 115,
   "id": "2101f77a-935f-4729-9b38-2e864dc3625c",
   "metadata": {},
   "outputs": [
    {
     "data": {
      "text/plain": [
       "(813362, 14)"
      ]
     },
     "execution_count": 115,
     "metadata": {},
     "output_type": "execute_result"
    }
   ],
   "source": [
    "customer_df.shape"
   ]
  },
  {
   "cell_type": "markdown",
   "id": "4ed27d35-33c6-4974-9b7d-2eda6d8e25d0",
   "metadata": {},
   "source": [
    "# Model Implementation"
   ]
  },
  {
   "cell_type": "markdown",
   "id": "9f887400-011d-44b3-b3ea-44eb76cc3339",
   "metadata": {},
   "source": [
    "## Stage 1: Train a Classification model to predict if a user will make a purchase (`log_transactionRevenue` > 0)\n",
    "#### Create a binary `purchase_flag` column (`purchase_flag = (log_transactionRevenue > 0).astype(int)`)\n",
    "    - 1 if `log_transactionRevenue` > 0 (user made a purchase).\n",
    "    - 0 if `log_transactionRevenue` == 0 (user didn’t make a purchase).\n"
   ]
  },
  {
   "cell_type": "code",
   "execution_count": 120,
   "id": "1cfb8a97-dd87-4fba-8880-70a9ad553e2a",
   "metadata": {},
   "outputs": [
    {
     "name": "stdout",
     "output_type": "stream",
     "text": [
      "purchase_flag\n",
      "0    803590\n",
      "1      9772\n",
      "Name: count, dtype: int64\n"
     ]
    }
   ],
   "source": [
    "# Create the purchase_flag column\n",
    "customer_df['purchase_flag'] = (customer_df['log_transactionRevenue'] > 0).astype(int)\n",
    "\n",
    "# Check the distribution of the target variable\n",
    "print(customer_df['purchase_flag'].value_counts())"
   ]
  },
  {
   "cell_type": "markdown",
   "id": "e4a46667-58bb-4828-b991-ee8386c03338",
   "metadata": {},
   "source": [
    "<br>\n",
    "\n",
    "#### Prepare Data for Classification"
   ]
  },
  {
   "cell_type": "code",
   "execution_count": 122,
   "id": "de395c67-edc5-4480-bad8-e1fbbf97f1d8",
   "metadata": {},
   "outputs": [
    {
     "name": "stdout",
     "output_type": "stream",
     "text": [
      "Training set size: (650689, 11)\n",
      "Testing set size: (162673, 11)\n"
     ]
    }
   ],
   "source": [
    "from sklearn.model_selection import train_test_split\n",
    "\n",
    "# Features and target\n",
    "X = customer_df.drop(columns=['log_transactionRevenue', 'purchase_flag', 'totals_transactionRevenue', 'fullVisitorId'])\n",
    "y = customer_df['purchase_flag']\n",
    "\n",
    "# Split the data\n",
    "X_train, X_test, y_train, y_test = train_test_split(X, y, test_size=0.2, random_state=42, stratify=y)\n",
    "print(f\"Training set size: {X_train.shape}\")\n",
    "print(f\"Testing set size: {X_test.shape}\")\n"
   ]
  },
  {
   "cell_type": "markdown",
   "id": "a7caadde-7031-409a-81eb-e7d4eb0b08c0",
   "metadata": {},
   "source": [
    "<br>\n",
    "\n",
    "#### Train a Classification Model: Random Forest\n",
    "Random Forest is selected as initial model due to its ability to handle categorical and numerical features without scaling."
   ]
  },
  {
   "cell_type": "code",
   "execution_count": 124,
   "id": "bbef0441-8b58-4571-a16d-c56e989cf1e2",
   "metadata": {},
   "outputs": [
    {
     "name": "stdout",
     "output_type": "stream",
     "text": [
      "Classification Report:\n",
      "               precision    recall  f1-score   support\n",
      "\n",
      "           0       0.99      1.00      0.99    160719\n",
      "           1       0.53      0.27      0.36      1954\n",
      "\n",
      "    accuracy                           0.99    162673\n",
      "   macro avg       0.76      0.63      0.68    162673\n",
      "weighted avg       0.99      0.99      0.99    162673\n",
      "\n",
      "ROC-AUC Score: 0.9768\n"
     ]
    }
   ],
   "source": [
    "from sklearn.ensemble import RandomForestClassifier\n",
    "from sklearn.metrics import classification_report, roc_auc_score\n",
    "\n",
    "# Train a Random Forest Classifier\n",
    "rf_model = RandomForestClassifier(random_state=42, n_estimators=100)\n",
    "rf_model.fit(X_train, y_train)\n",
    "\n",
    "# Predict on the test set\n",
    "y_pred = rf_model.predict(X_test)\n",
    "y_pred_prob = rf_model.predict_proba(X_test)[:, 1]  # Probabilities for class 1, required to evaluate the performance metric ROC-AUC\n",
    "\n",
    "# Evaluate the model\n",
    "print(\"Classification Report:\\n\", classification_report(y_test, y_pred))\n",
    "print(f\"ROC-AUC Score: {roc_auc_score(y_test, y_pred_prob):.4f}\")\n"
   ]
  },
  {
   "cell_type": "markdown",
   "id": "37641120-62de-40a6-8ed8-5626c2275076",
   "metadata": {},
   "source": [
    "The ROC-AUC measures the model's ability to distinguish between classes."
   ]
  },
  {
   "cell_type": "markdown",
   "id": "0c676b70-b8b0-478a-aa1e-8399cdcc9d9a",
   "metadata": {},
   "source": [
    "#### Interpretation\n",
    "1. **ROC-AUC Score: 0.9768**: the model is very good at distinguishing between buyers (class 1) and non-buyers (class 0). However, a high AUC does not guarantee good performance for imbalanced datasets.\n",
    "\n",
    "##### Class 1 (Buyers)\n",
    "2. **Precision = 0.53**: Only 53% of users predicted as buyers were actual buyers; The model makes a lot of false positives for class 1.\n",
    "3. **Recall = 0.27**: The model only identifies 27% of actual buyers; Many actual buyers are missed (false negatives are high).\n",
    "4. **F1-Score = 0.36**: This combines precision and recall and reflecs poor performance for buyers (class 1).\n",
    "\n",
    "##### Overall metrics\n",
    "5. Accuracy = 0.99: Accuracy is misleadingly high because class 0 (non-buyers) dominates the dataset. The model predicts class 0 very well due to its imbalance, inflating the accuracy.\n",
    "6. Macro Avg (Precision, Recall, F1-Score): These metrics take the average of the metrics for both classes without weighting by class size.\n",
    "7. Weighted Avg (Precision, Recall, F1-Score): These metrics are weighted by the number of samples in each class. Since class 0 dominates, the weighted average heavily reflects its performance.\n",
    "\n",
    "\n",
    "#### Summary:\n",
    "- Model Bias Towards Class 0:\n",
    "    - The model performs almost perfectly for class 0 (non-buyers), but struggles with class 1 (buyers). This is common in imbalanced datasets.\n",
    "\n",
    "- High False Negatives for Class 1:\n",
    "    - The recall for class 1 is low (0.27), meaning the model misses most buyers. This is problematic because in marketing applications, identifying buyers is the goal."
   ]
  },
  {
   "cell_type": "markdown",
   "id": "1c791feb-24f6-4b3d-968f-fcb1238b7061",
   "metadata": {},
   "source": [
    "<br>\n",
    "\n",
    "### Handle the class imbalance"
   ]
  },
  {
   "cell_type": "code",
   "execution_count": 87,
   "id": "1a4d6e87-47bb-4e43-9593-fbbe6bc659ab",
   "metadata": {},
   "outputs": [
    {
     "name": "stdout",
     "output_type": "stream",
     "text": [
      "purchase_flag\n",
      "0    803590\n",
      "1      9772\n",
      "Name: count, dtype: int64\n"
     ]
    }
   ],
   "source": [
    "# Distribution of the target variable\n",
    "print(customer_df['purchase_flag'].value_counts())"
   ]
  },
  {
   "cell_type": "code",
   "execution_count": 96,
   "id": "25d56ba7-e95a-4ded-8e7b-36ee179e975c",
   "metadata": {},
   "outputs": [
    {
     "data": {
      "image/png": "[encoded data removed]",
      "text/plain": [
       "<Figure size 600x300 with 1 Axes>"
      ]
     },
     "metadata": {},
     "output_type": "display_data"
    }
   ],
   "source": [
    "plt.figure(figsize=(6, 3))\n",
    "sns.countplot(x='purchase_flag', data=customer_df, palette=\"pastel\", hue='purchase_flag', legend=False)\n",
    "\n",
    "plt.title('Distribution of Target Variable: Purchase Flag', fontsize=16)\n",
    "plt.xlabel('Purchase Flag', fontsize=12)\n",
    "\n",
    "plt.show()"
   ]
  },
  {
   "cell_type": "markdown",
   "id": "7050a14d-fe45-411c-8743-2ceac6f0d795",
   "metadata": {},
   "source": [
    "There is a severe class imbalance in teh dataset:\n",
    "- Non-buyers (`purchase_flag` = 0): 803,590 instances (~98.8% of the data).\n",
    "- Buyers (`purchase_flag` = 1): 9,772 instances (~1.2% of the data)."
   ]
  },
  {
   "cell_type": "markdown",
   "id": "44fbeba6-b47f-4b88-8b53-31b4be30f904",
   "metadata": {},
   "source": [
    "#### Oversampling the minotiry class with SMOTE"
   ]
  },
  {
   "cell_type": "code",
   "execution_count": 101,
   "id": "19ecdbe9-b485-42cc-b14c-f34a13fb1623",
   "metadata": {},
   "outputs": [
    {
     "name": "stdout",
     "output_type": "stream",
     "text": [
      "Original class distribution:\n",
      "purchase_flag\n",
      "0    642871\n",
      "1      7818\n",
      "Name: count, dtype: int64\n",
      "Resampled class distribution:\n",
      "purchase_flag\n",
      "0    642871\n",
      "1    642871\n",
      "Name: count, dtype: int64\n"
     ]
    }
   ],
   "source": [
    "from imblearn.over_sampling import SMOTE\n",
    "from sklearn.model_selection import train_test_split\n",
    "\n",
    "# Apply SMOTE to the training set\n",
    "smote = SMOTE(random_state=42)\n",
    "X_train_smote, y_train_smote = smote.fit_resample(X_train, y_train)\n",
    "\n",
    "# Check the new class distribution\n",
    "print(f\"Original class distribution:\\n{y_train.value_counts()}\")\n",
    "print(f\"Resampled class distribution:\\n{pd.Series(y_train_smote).value_counts()}\")"
   ]
  },
  {
   "cell_type": "code",
   "execution_count": 127,
   "id": "0a842684-38c9-48b4-b929-45acb7553db7",
   "metadata": {},
   "outputs": [
    {
     "name": "stdout",
     "output_type": "stream",
     "text": [
      "Classification Report:\n",
      "               precision    recall  f1-score   support\n",
      "\n",
      "           0       1.00      0.99      0.99    160719\n",
      "           1       0.34      0.59      0.44      1954\n",
      "\n",
      "    accuracy                           0.98    162673\n",
      "   macro avg       0.67      0.79      0.71    162673\n",
      "weighted avg       0.99      0.98      0.98    162673\n",
      "\n",
      "ROC-AUC Score: 0.9792\n"
     ]
    }
   ],
   "source": [
    "# Train a Random Forest classifier with oversampled dataset\n",
    "rf_model = RandomForestClassifier(random_state=42, n_estimators=100)\n",
    "rf_model.fit(X_train_smote, y_train_smote)\n",
    "\n",
    "# Predict on the test set\n",
    "y_pred = rf_model.predict(X_test)\n",
    "y_pred_prob = rf_model.predict_proba(X_test)[:, 1]\n",
    "\n",
    "# Evaluate the model\n",
    "print(\"Classification Report:\\n\", classification_report(y_test, y_pred))\n",
    "print(f\"ROC-AUC Score: {roc_auc_score(y_test, y_pred_prob):.4f}\")"
   ]
  },
  {
   "cell_type": "markdown",
   "id": "6672934e-0029-4bdc-97df-4b71e198dc8e",
   "metadata": {},
   "source": [
    "#### Interpretation\n",
    "##### Class 1 (Buyers):\n",
    "- Precision = 0.34:\n",
    "    - The model struggles with precision, meaning that many users predicted as buyers are not actual buyers (high false positives).\n",
    "- Recall = 0.59:\n",
    "    - A **significant improvement** compared to the pre-SMOTE result (recall ~0.27 earlier). The model now **correctly identifies 59% of actual buyers**.\n",
    "- F1-Score = 0.44:\n",
    "    - Improved compared to pre-SMOTE (F1 ~0.36 earlier), indicating better balance between precision and recall."
   ]
  },
  {
   "cell_type": "markdown",
   "id": "40963863-ee92-4c03-9401-4ca5870a58a8",
   "metadata": {},
   "source": [
    "<br>\n",
    "\n",
    "#### Experiment with Class Weights\n",
    "Combine SMOTE with class weighting to help the model pay even more attention to buyers (class 1) during training."
   ]
  },
  {
   "cell_type": "code",
   "execution_count": null,
   "id": "73c1c54b-84c7-4c5a-9a2f-0ff65a6e40d0",
   "metadata": {},
   "outputs": [],
   "source": [
    "rf_model = RandomForestClassifier(class_weight={0: 1, 1: 5}, random_state=42)\n",
    "rf_model.fit(X_train_smote, y_train_smote)"
   ]
  },
  {
   "cell_type": "markdown",
   "id": "bf1d0e93-18c3-4aa7-a48f-349fa30b318f",
   "metadata": {},
   "source": [
    "Threshold Tuning:\n",
    "Adjust the classification threshold to balance precision and recall further for buyers:"
   ]
  },
  {
   "cell_type": "code",
   "execution_count": 137,
   "id": "8646fcc0-9ee7-43e6-8fae-970bcb2063b5",
   "metadata": {},
   "outputs": [
    {
     "name": "stdout",
     "output_type": "stream",
     "text": [
      "              precision    recall  f1-score   support\n",
      "\n",
      "           0       1.00      0.98      0.99    160719\n",
      "           1       0.31      0.69      0.43      1954\n",
      "\n",
      "    accuracy                           0.98    162673\n",
      "   macro avg       0.65      0.83      0.71    162673\n",
      "weighted avg       0.99      0.98      0.98    162673\n",
      "\n"
     ]
    }
   ],
   "source": [
    "threshold = 0.4\n",
    "y_pred_adjusted = (y_pred_prob >= threshold).astype(int)\n",
    "print(classification_report(y_test, y_pred_adjusted))"
   ]
  },
  {
   "cell_type": "markdown",
   "id": "2cec3c5d-d8d6-4f06-8ee8-934fc36f2740",
   "metadata": {},
   "source": [
    "#### Improvement Observed:\n",
    "- Class 1 Recall = 0.69: A significant improvement compared to the initial results where recall was much lower (~0.27 without SMOTE and weighting). The model is now *identifying 69% of actual buyers*.\n",
    "- Threshold Tuning: By lowering the threshold to 0.4, there is more balance between recall and precision for class 1, improving the ability to catch buyers."
   ]
  },
  {
   "cell_type": "code",
   "execution_count": null,
   "id": "019df0d4-e3ca-4ab9-853d-fa2e60086c7f",
   "metadata": {},
   "outputs": [],
   "source": []
  },
  {
   "cell_type": "code",
   "execution_count": null,
   "id": "0a4e1b75-3887-435f-a9b4-93de0dedf9f2",
   "metadata": {},
   "outputs": [],
   "source": []
  },
  {
   "cell_type": "code",
   "execution_count": null,
   "id": "78f407e4-c5f2-4fb5-a414-539b907caefe",
   "metadata": {},
   "outputs": [],
   "source": []
  },
  {
   "cell_type": "code",
   "execution_count": null,
   "id": "33debe00-37aa-46b9-ac76-c99932afc4ad",
   "metadata": {},
   "outputs": [],
   "source": []
  },
  {
   "cell_type": "code",
   "execution_count": null,
   "id": "b9c0b1cf-61ad-47ae-8ad3-a20c23212686",
   "metadata": {},
   "outputs": [],
   "source": []
  },
  {
   "cell_type": "code",
   "execution_count": null,
   "id": "a74637db-19d6-42be-978a-df772ed67302",
   "metadata": {},
   "outputs": [],
   "source": []
  },
  {
   "cell_type": "code",
   "execution_count": null,
   "id": "0eeac9e5-9237-437d-a193-4a3a4c827a12",
   "metadata": {},
   "outputs": [],
   "source": []
  },
  {
   "cell_type": "code",
   "execution_count": null,
   "id": "8c68d5db-4593-4532-bcdb-06a858ddf072",
   "metadata": {},
   "outputs": [],
   "source": [
    "from sklearn.model_selection import GridSearchCV\n",
    "\n",
    "param_grid = {\n",
    "    'n_estimators': [100, 200, 300],\n",
    "    'max_depth': [None, 10, 20],\n",
    "    'min_samples_split': [2, 5, 10]\n",
    "}\n",
    "grid_search = GridSearchCV(rf_model, param_grid, cv=3, scoring='roc_auc', n_jobs=-1)\n",
    "grid_search.fit(X_train_smote, y_train_smote)\n",
    "print(grid_search.best_params_)\n"
   ]
  },
  {
   "cell_type": "code",
   "execution_count": null,
   "id": "f9bd72f0-b2b6-49f1-885d-84de7cada571",
   "metadata": {},
   "outputs": [],
   "source": []
  },
  {
   "cell_type": "code",
   "execution_count": null,
   "id": "de3a6fcc-465b-4495-ac2d-a2805d9144bb",
   "metadata": {},
   "outputs": [],
   "source": []
  },
  {
   "cell_type": "code",
   "execution_count": null,
   "id": "d21eea2d-01f9-4abd-8f30-7f16bbe1ec82",
   "metadata": {},
   "outputs": [],
   "source": []
  },
  {
   "cell_type": "code",
   "execution_count": null,
   "id": "4c786950-9179-4358-b242-01971ee82f8b",
   "metadata": {},
   "outputs": [],
   "source": []
  },
  {
   "cell_type": "code",
   "execution_count": 103,
   "id": "fbdd4d70-9938-47d3-969c-e818eab63f95",
   "metadata": {},
   "outputs": [],
   "source": [
    "from sklearn.ensemble import RandomForestClassifier\n",
    "\n",
    "# Train a Random Forest with class weights\n",
    "rf_model = RandomForestClassifier(class_weight={0: 1, 1: 10}, random_state=42)\n",
    "rf_model.fit(X_train, y_train)\n",
    "\n",
    "# Evaluate the model\n",
    "y_pred = rf_model.predict(X_test)\n",
    "y_pred_prob = rf_model.predict_proba(X_test)[:, 1]\n",
    "\n"
   ]
  },
  {
   "cell_type": "code",
   "execution_count": 107,
   "id": "9c2ed88a-ae9e-42c5-aa1c-08c140404cf5",
   "metadata": {},
   "outputs": [
    {
     "name": "stdout",
     "output_type": "stream",
     "text": [
      "Accuracy: 0.9883385687852317\n",
      "ROC AUC Score: 0.9763614951702803\n",
      "\n",
      "Classification Report:\n",
      "               precision    recall  f1-score   support\n",
      "\n",
      "           0       0.99      1.00      0.99    160719\n",
      "           1       0.53      0.25      0.34      1954\n",
      "\n",
      "    accuracy                           0.99    162673\n",
      "   macro avg       0.76      0.63      0.67    162673\n",
      "weighted avg       0.99      0.99      0.99    162673\n",
      "\n"
     ]
    }
   ],
   "source": [
    "from sklearn.metrics import classification_report, confusion_matrix, roc_auc_score, roc_curve, accuracy_score\n",
    "\n",
    "# Print evaluation metrics\n",
    "print(\"Accuracy:\", accuracy_score(y_test, y_pred))\n",
    "print(\"ROC AUC Score:\", roc_auc_score(y_test, y_pred_prob))\n",
    "print(\"\\nClassification Report:\\n\", classification_report(y_test, y_pred))"
   ]
  },
  {
   "cell_type": "code",
   "execution_count": null,
   "id": "37f63da0-7e0a-4430-bf9d-a407307e5d28",
   "metadata": {},
   "outputs": [],
   "source": []
  },
  {
   "cell_type": "code",
   "execution_count": null,
   "id": "1c470a18-24a9-4f7d-8fea-90b304c47939",
   "metadata": {},
   "outputs": [],
   "source": []
  },
  {
   "cell_type": "code",
   "execution_count": null,
   "id": "ee8945ef-77cb-4007-841c-0e92633e7455",
   "metadata": {},
   "outputs": [],
   "source": []
  },
  {
   "cell_type": "markdown",
   "id": "b2632589-f135-4480-be3d-de3061a4b33f",
   "metadata": {},
   "source": [
    "Undersampling the majority class"
   ]
  },
  {
   "cell_type": "code",
   "execution_count": 78,
   "id": "892bda69-9f6a-4259-94f3-92633734591a",
   "metadata": {},
   "outputs": [
    {
     "name": "stdout",
     "output_type": "stream",
     "text": [
      "Original class distribution:\n",
      "purchase_flag\n",
      "0    642871\n",
      "1      7818\n",
      "Name: count, dtype: int64\n",
      "Resampled class distribution:\n",
      "purchase_flag\n",
      "0    7818\n",
      "1    7818\n",
      "Name: count, dtype: int64\n"
     ]
    }
   ],
   "source": [
    "from imblearn.under_sampling import RandomUnderSampler\n",
    "from sklearn.model_selection import train_test_split\n",
    "\n",
    "# Split the data into features (X) and target (y)\n",
    "X = customer_df.drop(columns=['log_transactionRevenue', 'totals_transactionRevenue', 'purchase_flag', 'fullVisitorId'])\n",
    "y = customer_df['purchase_flag']\n",
    "\n",
    "# Split into training and test sets before applying undersampling\n",
    "X_train, X_test, y_train, y_test = train_test_split(X, y, test_size=0.2, random_state=42, stratify=y)\n",
    "\n",
    "# Apply Random Undersampling to the training set\n",
    "undersampler = RandomUnderSampler(random_state=42)\n",
    "X_train_under, y_train_under = undersampler.fit_resample(X_train, y_train)\n",
    "\n",
    "# Check the new class distribution\n",
    "print(f\"Original class distribution:\\n{y_train.value_counts()}\")\n",
    "print(f\"Resampled class distribution:\\n{pd.Series(y_train_under).value_counts()}\")\n"
   ]
  },
  {
   "cell_type": "markdown",
   "id": "e5387723-a1a3-4270-a96e-dd6edaa84cc6",
   "metadata": {},
   "source": [
    "train the model"
   ]
  },
  {
   "cell_type": "code",
   "execution_count": 81,
   "id": "1d22dcf3-ad10-4c20-88af-97e7bd8401c2",
   "metadata": {},
   "outputs": [
    {
     "name": "stdout",
     "output_type": "stream",
     "text": [
      "Classification Report:\n",
      "               precision    recall  f1-score   support\n",
      "\n",
      "           0       1.00      0.94      0.97    160719\n",
      "           1       0.17      0.98      0.29      1954\n",
      "\n",
      "    accuracy                           0.94    162673\n",
      "   macro avg       0.58      0.96      0.63    162673\n",
      "weighted avg       0.99      0.94      0.96    162673\n",
      "\n",
      "ROC-AUC Score: 0.9855\n"
     ]
    }
   ],
   "source": [
    "from sklearn.ensemble import RandomForestClassifier\n",
    "from sklearn.metrics import classification_report, roc_auc_score\n",
    "\n",
    "# Train a Random Forest classifier\n",
    "rf_model = RandomForestClassifier(random_state=42, n_estimators=100)\n",
    "rf_model.fit(X_train_under, y_train_under)\n",
    "\n",
    "# Predict on the test set\n",
    "y_pred = rf_model.predict(X_test)\n",
    "y_pred_prob = rf_model.predict_proba(X_test)[:, 1]\n",
    "\n",
    "# Evaluate the model\n",
    "print(\"Classification Report:\\n\", classification_report(y_test, y_pred))\n",
    "print(f\"ROC-AUC Score: {roc_auc_score(y_test, y_pred_prob):.4f}\")\n"
   ]
  },
  {
   "cell_type": "code",
   "execution_count": null,
   "id": "4eb86a79-64a8-4491-b5ab-2324f4febbe5",
   "metadata": {},
   "outputs": [],
   "source": []
  },
  {
   "cell_type": "code",
   "execution_count": null,
   "id": "010a87c9-2401-4db4-aed7-6a02f941334f",
   "metadata": {},
   "outputs": [],
   "source": []
  },
  {
   "cell_type": "code",
   "execution_count": 83,
   "id": "03dda08c-ab1f-48f0-b409-fd57f9557206",
   "metadata": {},
   "outputs": [
    {
     "name": "stdout",
     "output_type": "stream",
     "text": [
      "Original class distribution:\n",
      "purchase_flag\n",
      "0    642871\n",
      "1      7818\n",
      "Name: count, dtype: int64\n",
      "After SMOTE + Undersampling class distribution:\n",
      "purchase_flag\n",
      "0    642871\n",
      "1    642871\n",
      "Name: count, dtype: int64\n"
     ]
    }
   ],
   "source": [
    "from imblearn.over_sampling import SMOTE\n",
    "from imblearn.under_sampling import RandomUnderSampler\n",
    "from imblearn.combine import SMOTEENN  # For combining oversampling + undersampling\n",
    "from sklearn.model_selection import train_test_split\n",
    "import pandas as pd\n",
    "\n",
    "# Split the data into features (X) and target (y)\n",
    "X = customer_df.drop(columns=['log_transactionRevenue', 'totals_transactionRevenue', 'purchase_flag', 'fullVisitorId'])\n",
    "y = customer_df['purchase_flag']\n",
    "\n",
    "# Split into training and test sets\n",
    "X_train, X_test, y_train, y_test = train_test_split(X, y, test_size=0.2, random_state=42, stratify=y)\n",
    "\n",
    "# Apply SMOTE + Random Undersampling\n",
    "smote = SMOTE(random_state=42)  # SMOTE to oversample\n",
    "undersampler = RandomUnderSampler(random_state=42)  # Undersample the majority class\n",
    "\n",
    "# First apply SMOTE, then undersampling\n",
    "X_smote, y_smote = smote.fit_resample(X_train, y_train)\n",
    "X_resampled, y_resampled = undersampler.fit_resample(X_smote, y_smote)\n",
    "\n",
    "# Check the new class distribution\n",
    "print(f\"Original class distribution:\\n{y_train.value_counts()}\")\n",
    "print(f\"After SMOTE + Undersampling class distribution:\\n{pd.Series(y_resampled).value_counts()}\")\n"
   ]
  },
  {
   "cell_type": "code",
   "execution_count": 85,
   "id": "cdd039b9-0795-4282-a27a-820f28d9174f",
   "metadata": {},
   "outputs": [
    {
     "name": "stdout",
     "output_type": "stream",
     "text": [
      "Classification Report:\n",
      "               precision    recall  f1-score   support\n",
      "\n",
      "           0       0.99      0.99      0.99    160719\n",
      "           1       0.34      0.58      0.43      1954\n",
      "\n",
      "    accuracy                           0.98    162673\n",
      "   macro avg       0.67      0.79      0.71    162673\n",
      "weighted avg       0.99      0.98      0.98    162673\n",
      "\n",
      "ROC-AUC Score: 0.9790\n"
     ]
    }
   ],
   "source": [
    "from sklearn.ensemble import RandomForestClassifier\n",
    "from sklearn.metrics import classification_report, roc_auc_score\n",
    "\n",
    "# Train a Random Forest classifier\n",
    "rf_model = RandomForestClassifier(random_state=42, n_estimators=100)\n",
    "rf_model.fit(X_resampled, y_resampled)\n",
    "\n",
    "# Predict on the test set\n",
    "y_pred = rf_model.predict(X_test)\n",
    "y_pred_prob = rf_model.predict_proba(X_test)[:, 1]\n",
    "\n",
    "# Evaluate the model\n",
    "print(\"Classification Report:\\n\", classification_report(y_test, y_pred))\n",
    "print(f\"ROC-AUC Score: {roc_auc_score(y_test, y_pred_prob):.4f}\")\n"
   ]
  },
  {
   "cell_type": "code",
   "execution_count": null,
   "id": "c2ac1d00-f2fb-4703-aba1-304c149cbf90",
   "metadata": {},
   "outputs": [],
   "source": []
  }
 ],
 "metadata": {
  "kernelspec": {
   "display_name": "Python 3 (ipykernel)",
   "language": "python",
   "name": "python3"
  },
  "language_info": {
   "codemirror_mode": {
    "name": "ipython",
    "version": 3
   },
   "file_extension": ".py",
   "mimetype": "text/x-python",
   "name": "python",
   "nbconvert_exporter": "python",
   "pygments_lexer": "ipython3",
   "version": "3.12.2"
  }
 },
 "nbformat": 4,
 "nbformat_minor": 5
}

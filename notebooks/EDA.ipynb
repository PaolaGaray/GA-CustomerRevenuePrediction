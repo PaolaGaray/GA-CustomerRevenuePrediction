{
 "cells": [
  {
   "cell_type": "markdown",
   "id": "7e65d3e9-aebb-418d-a19c-94bf4bb8899e",
   "metadata": {},
   "source": [
    "# Exploratory Data Analysis (EDA)"
   ]
  },
  {
   "cell_type": "code",
   "execution_count": 50,
   "id": "7f6070a4-723a-42df-9a89-e5ef0f9ed557",
   "metadata": {},
   "outputs": [],
   "source": [
    "import json\n",
    "import pandas as pd"
   ]
  },
  {
   "cell_type": "code",
   "execution_count": 52,
   "id": "77cd6482-eb88-4836-ace5-d275302bbe8e",
   "metadata": {},
   "outputs": [
    {
     "name": "stderr",
     "output_type": "stream",
     "text": [
      "/var/folders/t_/k5bhrc1x419crrfg_t8zp5nm0000gp/T/ipykernel_41365/241528515.py:1: DtypeWarning: Columns (4) have mixed types. Specify dtype option on import or set low_memory=False.\n",
      "  df = pd.read_csv('../data/clean/dataset.csv')\n"
     ]
    },
    {
     "data": {
      "text/html": [
       "<div>\n",
       "<style scoped>\n",
       "    .dataframe tbody tr th:only-of-type {\n",
       "        vertical-align: middle;\n",
       "    }\n",
       "\n",
       "    .dataframe tbody tr th {\n",
       "        vertical-align: top;\n",
       "    }\n",
       "\n",
       "    .dataframe thead th {\n",
       "        text-align: right;\n",
       "    }\n",
       "</style>\n",
       "<table border=\"1\" class=\"dataframe\">\n",
       "  <thead>\n",
       "    <tr style=\"text-align: right;\">\n",
       "      <th></th>\n",
       "      <th>date</th>\n",
       "      <th>day_of_week</th>\n",
       "      <th>month</th>\n",
       "      <th>channelGrouping</th>\n",
       "      <th>fullVisitorId</th>\n",
       "      <th>visitNumber</th>\n",
       "      <th>visitStartTime</th>\n",
       "      <th>device_deviceCategory</th>\n",
       "      <th>geoNetwork_continent</th>\n",
       "      <th>geoNetwork_country</th>\n",
       "      <th>totals_hits</th>\n",
       "      <th>totals_pageviews</th>\n",
       "      <th>totals_bounces</th>\n",
       "      <th>totals_timeOnSite</th>\n",
       "      <th>totals_transactions</th>\n",
       "      <th>totals_transactionRevenue</th>\n",
       "      <th>trafficSource_campaign</th>\n",
       "      <th>trafficSource_source</th>\n",
       "      <th>trafficSource_medium</th>\n",
       "      <th>trafficSource_isTrueDirect</th>\n",
       "    </tr>\n",
       "  </thead>\n",
       "  <tbody>\n",
       "    <tr>\n",
       "      <th>0</th>\n",
       "      <td>2017-10-16</td>\n",
       "      <td>0</td>\n",
       "      <td>10</td>\n",
       "      <td>Organic Search</td>\n",
       "      <td>3162355547410993243</td>\n",
       "      <td>1</td>\n",
       "      <td>2017-10-17 00:00:50</td>\n",
       "      <td>desktop</td>\n",
       "      <td>Europe</td>\n",
       "      <td>Germany</td>\n",
       "      <td>1</td>\n",
       "      <td>1</td>\n",
       "      <td>1</td>\n",
       "      <td>0</td>\n",
       "      <td>0</td>\n",
       "      <td>0</td>\n",
       "      <td>(not set)</td>\n",
       "      <td>google</td>\n",
       "      <td>organic</td>\n",
       "      <td>True</td>\n",
       "    </tr>\n",
       "    <tr>\n",
       "      <th>1</th>\n",
       "      <td>2017-10-16</td>\n",
       "      <td>0</td>\n",
       "      <td>10</td>\n",
       "      <td>Referral</td>\n",
       "      <td>8934116514970143966</td>\n",
       "      <td>6</td>\n",
       "      <td>2017-10-16 17:51:47</td>\n",
       "      <td>desktop</td>\n",
       "      <td>Americas</td>\n",
       "      <td>United States</td>\n",
       "      <td>2</td>\n",
       "      <td>2</td>\n",
       "      <td>0</td>\n",
       "      <td>28</td>\n",
       "      <td>0</td>\n",
       "      <td>0</td>\n",
       "      <td>(not set)</td>\n",
       "      <td>sites.google.com</td>\n",
       "      <td>referral</td>\n",
       "      <td>True</td>\n",
       "    </tr>\n",
       "    <tr>\n",
       "      <th>2</th>\n",
       "      <td>2017-10-16</td>\n",
       "      <td>0</td>\n",
       "      <td>10</td>\n",
       "      <td>Direct</td>\n",
       "      <td>7992466427990357681</td>\n",
       "      <td>1</td>\n",
       "      <td>2017-10-17 00:53:33</td>\n",
       "      <td>mobile</td>\n",
       "      <td>Americas</td>\n",
       "      <td>United States</td>\n",
       "      <td>2</td>\n",
       "      <td>2</td>\n",
       "      <td>0</td>\n",
       "      <td>38</td>\n",
       "      <td>0</td>\n",
       "      <td>0</td>\n",
       "      <td>(not set)</td>\n",
       "      <td>(direct)</td>\n",
       "      <td>(none)</td>\n",
       "      <td>True</td>\n",
       "    </tr>\n",
       "    <tr>\n",
       "      <th>3</th>\n",
       "      <td>2017-10-16</td>\n",
       "      <td>0</td>\n",
       "      <td>10</td>\n",
       "      <td>Organic Search</td>\n",
       "      <td>9075655783635761930</td>\n",
       "      <td>1</td>\n",
       "      <td>2017-10-16 16:04:11</td>\n",
       "      <td>desktop</td>\n",
       "      <td>Asia</td>\n",
       "      <td>Turkey</td>\n",
       "      <td>2</td>\n",
       "      <td>2</td>\n",
       "      <td>0</td>\n",
       "      <td>1</td>\n",
       "      <td>0</td>\n",
       "      <td>0</td>\n",
       "      <td>(not set)</td>\n",
       "      <td>google</td>\n",
       "      <td>organic</td>\n",
       "      <td>True</td>\n",
       "    </tr>\n",
       "    <tr>\n",
       "      <th>4</th>\n",
       "      <td>2017-10-16</td>\n",
       "      <td>0</td>\n",
       "      <td>10</td>\n",
       "      <td>Organic Search</td>\n",
       "      <td>6960673291025684308</td>\n",
       "      <td>1</td>\n",
       "      <td>2017-10-16 21:49:12</td>\n",
       "      <td>desktop</td>\n",
       "      <td>Americas</td>\n",
       "      <td>Mexico</td>\n",
       "      <td>2</td>\n",
       "      <td>2</td>\n",
       "      <td>0</td>\n",
       "      <td>52</td>\n",
       "      <td>0</td>\n",
       "      <td>0</td>\n",
       "      <td>(not set)</td>\n",
       "      <td>google</td>\n",
       "      <td>organic</td>\n",
       "      <td>True</td>\n",
       "    </tr>\n",
       "  </tbody>\n",
       "</table>\n",
       "</div>"
      ],
      "text/plain": [
       "         date  day_of_week  month channelGrouping        fullVisitorId  \\\n",
       "0  2017-10-16            0     10  Organic Search  3162355547410993243   \n",
       "1  2017-10-16            0     10        Referral  8934116514970143966   \n",
       "2  2017-10-16            0     10          Direct  7992466427990357681   \n",
       "3  2017-10-16            0     10  Organic Search  9075655783635761930   \n",
       "4  2017-10-16            0     10  Organic Search  6960673291025684308   \n",
       "\n",
       "   visitNumber       visitStartTime device_deviceCategory  \\\n",
       "0            1  2017-10-17 00:00:50               desktop   \n",
       "1            6  2017-10-16 17:51:47               desktop   \n",
       "2            1  2017-10-17 00:53:33                mobile   \n",
       "3            1  2017-10-16 16:04:11               desktop   \n",
       "4            1  2017-10-16 21:49:12               desktop   \n",
       "\n",
       "  geoNetwork_continent geoNetwork_country  totals_hits  totals_pageviews  \\\n",
       "0               Europe            Germany            1                 1   \n",
       "1             Americas      United States            2                 2   \n",
       "2             Americas      United States            2                 2   \n",
       "3                 Asia             Turkey            2                 2   \n",
       "4             Americas             Mexico            2                 2   \n",
       "\n",
       "   totals_bounces  totals_timeOnSite  totals_transactions  \\\n",
       "0               1                  0                    0   \n",
       "1               0                 28                    0   \n",
       "2               0                 38                    0   \n",
       "3               0                  1                    0   \n",
       "4               0                 52                    0   \n",
       "\n",
       "   totals_transactionRevenue trafficSource_campaign trafficSource_source  \\\n",
       "0                          0              (not set)               google   \n",
       "1                          0              (not set)     sites.google.com   \n",
       "2                          0              (not set)             (direct)   \n",
       "3                          0              (not set)               google   \n",
       "4                          0              (not set)               google   \n",
       "\n",
       "  trafficSource_medium  trafficSource_isTrueDirect  \n",
       "0              organic                        True  \n",
       "1             referral                        True  \n",
       "2               (none)                        True  \n",
       "3              organic                        True  \n",
       "4              organic                        True  "
      ]
     },
     "metadata": {},
     "output_type": "display_data"
    }
   ],
   "source": [
    "df = pd.read_csv('../data/clean/dataset.csv')\n",
    "\n",
    "display(df.head())"
   ]
  },
  {
   "cell_type": "markdown",
   "id": "74776015-7fad-4b03-81a3-d666117b4e4d",
   "metadata": {},
   "source": [
    "## Basic Overview"
   ]
  },
  {
   "cell_type": "code",
   "execution_count": 54,
   "id": "2cc08b55-b60e-4cca-8e58-6010bece9270",
   "metadata": {},
   "outputs": [
    {
     "data": {
      "text/plain": [
       "(1000000, 20)"
      ]
     },
     "execution_count": 54,
     "metadata": {},
     "output_type": "execute_result"
    }
   ],
   "source": [
    "df.shape"
   ]
  },
  {
   "cell_type": "code",
   "execution_count": 56,
   "id": "c59e4c2c-aec2-4e4c-9ce1-8190a5887cf4",
   "metadata": {},
   "outputs": [
    {
     "name": "stdout",
     "output_type": "stream",
     "text": [
      "<class 'pandas.core.frame.DataFrame'>\n",
      "RangeIndex: 1000000 entries, 0 to 999999\n",
      "Data columns (total 20 columns):\n",
      " #   Column                      Non-Null Count    Dtype \n",
      "---  ------                      --------------    ----- \n",
      " 0   date                        1000000 non-null  object\n",
      " 1   day_of_week                 1000000 non-null  int64 \n",
      " 2   month                       1000000 non-null  int64 \n",
      " 3   channelGrouping             1000000 non-null  object\n",
      " 4   fullVisitorId               1000000 non-null  object\n",
      " 5   visitNumber                 1000000 non-null  int64 \n",
      " 6   visitStartTime              1000000 non-null  object\n",
      " 7   device_deviceCategory       1000000 non-null  object\n",
      " 8   geoNetwork_continent        1000000 non-null  object\n",
      " 9   geoNetwork_country          1000000 non-null  object\n",
      " 10  totals_hits                 1000000 non-null  int64 \n",
      " 11  totals_pageviews            1000000 non-null  int64 \n",
      " 12  totals_bounces              1000000 non-null  int64 \n",
      " 13  totals_timeOnSite           1000000 non-null  int64 \n",
      " 14  totals_transactions         1000000 non-null  int64 \n",
      " 15  totals_transactionRevenue   1000000 non-null  int64 \n",
      " 16  trafficSource_campaign      1000000 non-null  object\n",
      " 17  trafficSource_source        1000000 non-null  object\n",
      " 18  trafficSource_medium        1000000 non-null  object\n",
      " 19  trafficSource_isTrueDirect  1000000 non-null  bool  \n",
      "dtypes: bool(1), int64(9), object(10)\n",
      "memory usage: 145.9+ MB\n"
     ]
    }
   ],
   "source": [
    "df.info()"
   ]
  },
  {
   "cell_type": "code",
   "execution_count": 63,
   "id": "e013b243-8850-4287-bb66-2603058df284",
   "metadata": {},
   "outputs": [
    {
     "name": "stdout",
     "output_type": "stream",
     "text": [
      "Number of unique customers 850351\n"
     ]
    }
   ],
   "source": [
    "# Number of unique customers\n",
    "unique_count = df['fullVisitorId'].nunique()\n",
    "print(f\"Number of unique customers {unique_count}\")"
   ]
  },
  {
   "cell_type": "code",
   "execution_count": null,
   "id": "005ff04a-551b-4d29-b2e2-176288393ef4",
   "metadata": {},
   "outputs": [],
   "source": []
  },
  {
   "cell_type": "code",
   "execution_count": null,
   "id": "dd7d064e-bd9e-4013-8291-ede01e0eb162",
   "metadata": {},
   "outputs": [],
   "source": []
  },
  {
   "cell_type": "code",
   "execution_count": null,
   "id": "e849d233-b585-49d5-a1d6-c1742f7f2cc1",
   "metadata": {},
   "outputs": [],
   "source": []
  },
  {
   "cell_type": "code",
   "execution_count": null,
   "id": "86216815-20f8-4551-b90a-4e04e6076808",
   "metadata": {},
   "outputs": [],
   "source": []
  },
  {
   "cell_type": "markdown",
   "id": "fc3c9958-c6f5-4f1b-a0cb-40ea4592cd8e",
   "metadata": {},
   "source": [
    "### Distribution of `totals_transactionRevenue`"
   ]
  },
  {
   "cell_type": "code",
   "execution_count": null,
   "id": "1521fd4e-f9ff-4d7d-b687-d15ed23f367b",
   "metadata": {},
   "outputs": [],
   "source": [
    "# Calculate total revenue per user\n",
    "user_revenue = df.groupby('fullVisitorId')['totals_transactionRevenue'].sum()"
   ]
  },
  {
   "cell_type": "code",
   "execution_count": null,
   "id": "af420722-5fa8-48eb-97a0-5cb1a9b55580",
   "metadata": {},
   "outputs": [],
   "source": [
    "import matplotlib.pyplot as plt\n",
    "import numpy as np\n",
    "import seaborn as sns\n",
    "\n",
    "# Setting up seaborn for aesthetic plots\n",
    "sns.set(style=\"whitegrid\")\n",
    "\n",
    "# Plot histogram of the total revenue\n",
    "plt.figure(figsize=(12, 6))\n",
    "sns.histplot(user_revenue[user_revenue > 0], bins=50, kde=True)\n",
    "plt.title(\"Distribution of Total Revenue per User (Raw)\")\n",
    "plt.xlabel(\"Total Revenue\")\n",
    "plt.show()\n",
    "\n",
    "# Plot histogram of log-transformed revenue\n",
    "log_user_revenue = np.log1p(user_revenue[user_revenue > 0])\n",
    "plt.figure(figsize=(12, 6))\n",
    "sns.histplot(log_user_revenue, bins=50, kde=True)\n",
    "plt.title(\"Distribution of Total Revenue per User (Log-Transformed)\")\n",
    "plt.xlabel(\"Log of Total Revenue\")\n",
    "plt.show()"
   ]
  },
  {
   "cell_type": "markdown",
   "id": "12ff0e50-4852-4f27-bdf7-0f53a30d1b1d",
   "metadata": {},
   "source": [
    "#### Checking skewness and kurtosis"
   ]
  },
  {
   "cell_type": "code",
   "execution_count": null,
   "id": "9e0d4ab4-d0c2-4254-973a-d85be05c2b1c",
   "metadata": {},
   "outputs": [],
   "source": [
    "from scipy.stats import skew, kurtosis\n",
    "\n",
    "print(\"\\nSkewness of Raw Transaction Revenue:\", skew(df['totals_transactionRevenue'].dropna()))\n",
    "print(\"Kurtosis of Raw Transaction Revenue:\", kurtosis(df['totals_transactionRevenue'].dropna()))\n",
    "print(\"Skewness of Log-transformed Transaction Revenue:\", skew(df['log_transactionRevenue'].dropna()))\n",
    "print(\"Kurtosis of Log-transformed Transaction Revenue:\", kurtosis(df['log_transactionRevenue'].dropna()))"
   ]
  },
  {
   "cell_type": "code",
   "execution_count": null,
   "id": "88d42936-bcab-474a-be98-862e5a6dc88e",
   "metadata": {},
   "outputs": [],
   "source": [
    "#### Interpretation\n",
    "\n",
    "##### Raw Transaction Revenue\n",
    "**Skewness: 265.72**\n",
    "\n",
    "- This extremely high positive skewness value indicates a very strong right skew. In other words, the distribution is heavily weighted toward lower values, with a long tail of very high revenue values.\n",
    "Such high skewness is typical in e-commerce revenue data, where most users have low or zero revenue, and a few users contribute significantly more.\n",
    "\n",
    "**Kurtosis: 107,159.75**\n",
    "\n",
    "-This exceptionally high kurtosis value indicates extremely heavy tails, meaning that there are many extreme outliers (high-revenue users) in the data.\n",
    "High kurtosis in the raw transaction revenue distribution shows that the distribution has far more extreme values than a normal distribution, which is often challenging for models to handle.\n",
    "Together, these values tell us that the raw transaction revenue is highly skewed and has a large number of outliers, making it unsuitable for direct modeling.\n",
    "\n",
    "<br>\n",
    "\n",
    "##### Log-Transformed Transaction Revenue\n",
    "**Skewness: 9.55**\n",
    "\n",
    "- Although the skewness of the log-transformed revenue is still positive, it’s significantly lower than the skewness of the raw data. This reduction shows that log transformation has helped to reduce skewness, although some right skew still remains.\n",
    "\n",
    "**Kurtosis: 89.57**\n",
    "\n",
    "The kurtosis is still high but greatly reduced compared to the raw data. \n",
    "- This suggests that while there are still some extreme values, the distribution is less heavy-tailed after the log transformation."
   ]
  },
  {
   "cell_type": "markdown",
   "id": "35af2ba9-3a74-4950-bb56-92ef5a94517f",
   "metadata": {},
   "source": [
    "### Revenue Analysis per User"
   ]
  },
  {
   "cell_type": "code",
   "execution_count": null,
   "id": "fb64d723-37d1-4dc0-8d0d-81b2ac3fd6e4",
   "metadata": {},
   "outputs": [],
   "source": [
    "# Aggregate revenue per user, log-transform, and plot distribution\n",
    "user_revenue = df.groupby('fullVisitorId')['totals_transactionRevenue'].sum()\n",
    "plt.figure(figsize=(10, 5))\n",
    "sns.histplot(np.log1p(user_revenue), bins=50, kde=True)\n",
    "plt.title(\"Distribution of Total Revenue per User (Log-transformed)\")\n",
    "plt.xlabel(\"Log-transformed Total Revenue per User\")\n",
    "plt.ylabel(\"Frequency\")\n",
    "plt.show()"
   ]
  },
  {
   "cell_type": "code",
   "execution_count": null,
   "id": "518d22da-2723-4e97-b701-8eda6c5d6bf5",
   "metadata": {},
   "outputs": [],
   "source": [
    "#### Interpretation\n",
    "1. High Concentration at Zero or Near-Zero Revenue:\n",
    "\n",
    "- The majority of users are clustered around a log-transformed revenue of close to zero. This means that most users have either zero revenue or very low total revenue.\n",
    "- This distribution is common in e-commerce, where most customers may browse but not make a purchase, leading to a high frequency of low or zero revenue values."
   ]
  },
  {
   "cell_type": "code",
   "execution_count": null,
   "id": "e4c27a04-f34c-45cc-964f-bbea12f55a01",
   "metadata": {},
   "outputs": [],
   "source": [
    "paying_user_revenue = user_revenue[user_revenue > 0]\n",
    "plt.figure(figsize=(10, 5))\n",
    "sns.histplot(np.log1p(paying_user_revenue), bins=50, kde=True)\n",
    "plt.title(\"Distribution of Total Revenue per Paying User (Log-transformed)\")\n",
    "plt.xlabel(\"Log-transformed Total Revenue per User\")\n",
    "plt.ylabel(\"Frequency\")\n",
    "plt.show()"
   ]
  },
  {
   "cell_type": "markdown",
   "id": "afb1cc14-94cb-4892-bed9-4ceb1d30a38c",
   "metadata": {},
   "source": [
    "### Categorical Variable Analysis"
   ]
  },
  {
   "cell_type": "markdown",
   "id": "4028f8ce-743a-4bf5-857b-a0ce42181ebd",
   "metadata": {},
   "source": [
    "#### Channel Grouping"
   ]
  },
  {
   "cell_type": "code",
   "execution_count": null,
   "id": "aa9c21d6-78be-4b8b-9fcd-ae2576c2db62",
   "metadata": {},
   "outputs": [],
   "source": [
    "plt.figure(figsize=(12, 6))\n",
    "sns.countplot(y='channelGrouping', data=df, order=df['channelGrouping'].value_counts().index)\n",
    "plt.title(\"Distribution of Channel Grouping\")\n",
    "plt.xlabel(\"Count\")\n",
    "plt.ylabel(\"Channel Grouping\")\n",
    "plt.show()"
   ]
  },
  {
   "cell_type": "markdown",
   "id": "ebb84710-6dfb-4a01-8569-296124b7f0ae",
   "metadata": {},
   "source": [
    "<br>\n",
    "\n",
    "#### Device Category"
   ]
  },
  {
   "cell_type": "code",
   "execution_count": null,
   "id": "3edd9b89-16a7-4b1b-bb05-233d321426fa",
   "metadata": {},
   "outputs": [],
   "source": [
    "plt.figure(figsize=(10, 5))\n",
    "sns.countplot(y='device_deviceCategory', data=df, order=df['device_deviceCategory'].value_counts().index)\n",
    "plt.title(\"Distribution of Device Category\")\n",
    "plt.xlabel(\"Count\")\n",
    "plt.ylabel(\"Device Category\")\n",
    "plt.show()"
   ]
  },
  {
   "cell_type": "code",
   "execution_count": null,
   "id": "5b467baf-fb50-4854-8546-85e5c1578553",
   "metadata": {},
   "outputs": [],
   "source": [
    "<br>\n",
    "\n",
    "#### Country Distribution - Top 10 Countries by Visit Frequency"
   ]
  },
  {
   "cell_type": "code",
   "execution_count": null,
   "id": "9089c664-2d36-405f-85b2-69be73a8b665",
   "metadata": {},
   "outputs": [],
   "source": [
    "top_countries = df['geoNetwork_country'].value_counts().head(10).index\n",
    "plt.figure(figsize=(12, 6))\n",
    "sns.countplot(y='geoNetwork_country', data=df[df['geoNetwork_country'].isin(top_countries)], \n",
    "              order=top_countries)\n",
    "plt.title(\"Top 10 Countries by Visit Frequency\")\n",
    "plt.xlabel(\"Count\")\n",
    "plt.ylabel(\"Country\")\n",
    "plt.show()"
   ]
  },
  {
   "cell_type": "code",
   "execution_count": null,
   "id": "f6fd0c3b-081a-4880-af5f-e886e7c3d794",
   "metadata": {},
   "outputs": [],
   "source": [
    "<br>\n",
    "\n",
    "#### Correlation matrix\n",
    "Calculate and visualize correlation matrix for numerical columns"
   ]
  },
  {
   "cell_type": "code",
   "execution_count": null,
   "id": "123c72f4-f42b-4642-b6f2-73ee7a85dac4",
   "metadata": {},
   "outputs": [],
   "source": [
    "import matplotlib.pyplot as plt\n",
    "import seaborn as sns\n",
    "\n",
    "# Filter for only numeric columns\n",
    "numeric_df = df.select_dtypes(include=[np.number])\n",
    "\n",
    "# Calculate the correlation matrix\n",
    "correlation_matrix = numeric_df.corr()\n",
    "\n",
    "# Plot the correlation matrix\n",
    "plt.figure(figsize=(10, 8))\n",
    "sns.heatmap(correlation_matrix, annot=True, fmt=\".2f\", cmap=\"coolwarm\")\n",
    "plt.title(\"Correlation Matrix of Numerical Features\")\n",
    "plt.show()"
   ]
  },
  {
   "cell_type": "code",
   "execution_count": null,
   "id": "8ccddd1e-7b96-4a31-936a-e5f09fe27236",
   "metadata": {},
   "outputs": [],
   "source": []
  },
  {
   "cell_type": "code",
   "execution_count": null,
   "id": "ef6cf856-5596-40e3-b343-ceb11a26485c",
   "metadata": {},
   "outputs": [],
   "source": []
  }
 ],
 "metadata": {
  "kernelspec": {
   "display_name": "Python 3 (ipykernel)",
   "language": "python",
   "name": "python3"
  },
  "language_info": {
   "codemirror_mode": {
    "name": "ipython",
    "version": 3
   },
   "file_extension": ".py",
   "mimetype": "text/x-python",
   "name": "python",
   "nbconvert_exporter": "python",
   "pygments_lexer": "ipython3",
   "version": "3.12.2"
  }
 },
 "nbformat": 4,
 "nbformat_minor": 5
}
